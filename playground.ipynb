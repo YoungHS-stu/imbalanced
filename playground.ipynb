{
 "cells": [
  {
   "cell_type": "code",
   "execution_count": 16,
   "metadata": {
    "collapsed": true,
    "pycharm": {
     "name": "#%%\n"
    }
   },
   "outputs": [],
   "source": [
    "def check_init():\n",
    "    import platform\n",
    "    print(platform.python_version())\n",
    "    import datetime\n",
    "    now_time = datetime.datetime.now().strftime('%H:%M, %m-%d, %Y')\n",
    "    print(\"hello from {} at {}\".format(platform.python_version(), now_time))"
   ]
  },
  {
   "cell_type": "code",
   "execution_count": 17,
   "metadata": {
    "collapsed": false,
    "pycharm": {
     "name": "#%%\n"
    }
   },
   "outputs": [],
   "source": [
    "# import numpy as np\n",
    "# import matplotlib.pyplot as plt\n",
    "# \n",
    "# \n",
    "# a = np.random.random(10000000)\n",
    "# b = np.random.random(1)*(1-a)\n",
    "# c = 1 - a - b\n",
    "# d = [min(a[i], b[i], c[i]) for i in range(a.shape[0])]\n",
    "# \n",
    "# # avg_min.sort()\n",
    "# # plt.plot(avg_min)\n",
    "# print(sum(d)/len(d))"
   ]
  },
  {
   "cell_type": "code",
   "execution_count": 18,
   "metadata": {
    "pycharm": {
     "name": "#%%\n"
    }
   },
   "outputs": [
    {
     "name": "stdout",
     "output_type": "stream",
     "text": [
      "1.15.4\n",
      "0.23.4\n",
      "[[ 0.82789425 -0.83848208 -1.81671898 -0.51827132]\n",
      " [ 0.14744258 -2.26138034 -0.02658557  0.30248899]\n",
      " [-1.19393851  1.29298706  1.08311385 -0.413439  ]\n",
      " [-1.68425555 -0.26795625  2.11939887  0.17306757]]\n",
      "(4, 4)\n"
     ]
    },
    {
     "data": {
      "text/plain": "<AxesSubplot:>"
     },
     "execution_count": 18,
     "metadata": {},
     "output_type": "execute_result"
    },
    {
     "data": {
      "text/plain": "<Figure size 432x288 with 2 Axes>",
      "image/png": "[encoded data removed]"
     },
     "metadata": {
      "needs_background": "light"
     },
     "output_type": "display_data"
    }
   ],
   "source": [
    "import numpy as np\n",
    "import pandas as pd\n",
    "import seaborn as sns\n",
    "import matplotlib.pyplot as plt\n",
    "\n",
    "#! print version\n",
    "print(np.__version__)\n",
    "print(pd.__version__)\n",
    "\n",
    "%matplotlib inline\n",
    "normal_data = np.random.randn(4,4)\n",
    "print(normal_data)\n",
    "print(normal_data.shape)\n",
    "sns.heatmap(normal_data)"
   ]
  },
  {
   "cell_type": "markdown",
   "metadata": {
    "collapsed": false,
    "pycharm": {
     "name": "#%% md\n"
    }
   },
   "source": [
    "## 绘制核密度估计图\n",
    "核密度估计(kernel density estimation)是在概率论中用来估计未知的密度函数，属于非参数检验方法之一。\n",
    "通过核密度估计图可以比较直观的看出数据样本本身的分布特征,用法如下:"
   ]
  },
  {
   "cell_type": "markdown",
   "metadata": {
    "collapsed": false,
    "pycharm": {
     "name": "#%% md\n"
    }
   },
   "source": [
    "#!seaborn画子图\n",
    "#定义fig为整个图像\n",
    "#定义ax_arr是2×2图像中子图的数组\n",
    "fig, ax_arr = plt.subplots(2,2, figsize=(10,10))\n",
    "normal_x = np.random.randn(100) #生成100个符合正态分布的数\n",
    "sns.kdeplot(normal_x, ax=ax_arr[0,0])\n",
    "sns.kdeplot(normal_x, ax=ax_arr[0,1],cut=0)\n",
    "sns.distplot(normal_x,ax=ax_arr[1,0])\n",
    "sns.histplot(normal_x,ax=ax_arr[1,1])\n",
    "sns.displot(normal_x)\n"
   ]
  },
  {
   "cell_type": "markdown",
   "metadata": {
    "collapsed": false,
    "pycharm": {
     "name": "#%% md\n"
    }
   },
   "source": [
    "# 树模型\n",
    "\n",
    "## 梯度提升树 Gradient Boosting Decision Tree\n",
    "\n",
    "## 分类回归树 Classification And Regression Tree\n",
    "\n",
    "## 随机森林 Random Forest\n",
    "\n",
    "## 极度随机树 Extra Trees Classifier\n",
    "该算法与随机森林算法十分相似，都是由许多决策树构成。\n",
    "1、随机森林应用的是Bagging模型，而ET是使用所有的训练样本得到每棵决策树，也就是每棵决策树应用的是相同的全部训练样本；\n",
    "2、随机森林是在一个**随机子集**内得到最佳分叉属性，而ET是**完全随机**的得到分叉值，从而实现对决策树进行分叉的。"
   ]
  },
  {
   "cell_type": "markdown",
   "metadata": {
    "collapsed": false,
    "pycharm": {
     "name": "#%% md\n"
    }
   },
   "source": [
    "# Boosting"
   ]
  },
  {
   "cell_type": "markdown",
   "metadata": {
    "collapsed": false,
    "pycharm": {
     "name": "#%% md\n"
    }
   },
   "source": [
    "## problem\n",
    "sklearn的决策树不支持使用categorical data, 所以需要手动转换\n",
    "- 简单转换成1,2,3,4,5等index  \n",
    "- 转换成Onehot Encoding  \n",
    "--  使用pd.get_dummies  \n",
    "--  使用sklearn.preprocessing.OneHotEncoder  \n",
    "- 或许可以使用hash, 比如sklearn.feature_extraction.**FeatureHasher**  \n",
    "**example**"
   ]
  },
  {
   "cell_type": "markdown",
   "metadata": {
    "collapsed": false,
    "pycharm": {
     "name": "#%% md\n"
    }
   },
   "source": [
    "#! usage of pd.get_dummies  \n",
    "s = pd.Series(list('abca'))\n",
    "print(s)\n",
    "print(pd.get_dummies(s))\n",
    "print(\"-------------------------\")\n",
    "s = ['a','b','c','a']\n",
    "print(s)\n",
    "print(pd.get_dummies(s))"
   ]
  },
  {
   "cell_type": "code",
   "execution_count": 19,
   "metadata": {
    "collapsed": false,
    "pycharm": {
     "name": "#%%\n"
    }
   },
   "outputs": [
    {
     "name": "stdout",
     "output_type": "stream",
     "text": [
      "   A  B  C\n",
      "0  a  b  0\n",
      "1  c  c  0\n",
      "2  b  a  1\n",
      "3  a  b  0\n",
      "   C  A_b  A_c  B_b  B_c\n",
      "0  0    0    0    1    0\n",
      "1  0    0    1    0    1\n",
      "2  1    1    0    0    0\n",
      "3  0    0    0    1    0\n"
     ]
    },
    {
     "data": {
      "text/plain": "DecisionTreeClassifier(class_weight=None, criterion='gini', max_depth=None,\n                       max_features=None, max_leaf_nodes=None,\n                       min_impurity_decrease=0.0, min_impurity_split=None,\n                       min_samples_leaf=1, min_samples_split=2,\n                       min_weight_fraction_leaf=0.0, presort=False,\n                       random_state=None, splitter='best')"
     },
     "execution_count": 19,
     "metadata": {},
     "output_type": "execute_result"
    }
   ],
   "source": [
    "from sklearn.tree import DecisionTreeClassifier\n",
    "\n",
    "data = pd.DataFrame()\n",
    "data['A'] = ['a','c','b','a']\n",
    "data['B'] = ['b','c','a','b']\n",
    "data['C'] = [0, 0, 1, 0]\n",
    "data['Class'] = ['n','n','y','n']\n",
    "\n",
    "tree = DecisionTreeClassifier()\n",
    "print(data[['A','B','C']])\n",
    "one_hot_data = pd.get_dummies(data[['A','B','C']],drop_first=True)\n",
    "print(one_hot_data)\n",
    "tree.fit(one_hot_data, data['Class'])"
   ]
  },
  {
   "cell_type": "code",
   "execution_count": 20,
   "metadata": {
    "collapsed": false,
    "pycharm": {
     "name": "#%% \n"
    }
   },
   "outputs": [
    {
     "ename": "ValueError",
     "evalue": "Number of features of the model must match the input. Model n_features is 5 and input n_features is 3 ",
     "output_type": "error",
     "traceback": [
      "\u001B[1;31m---------------------------------------------------------------------------\u001B[0m",
      "\u001B[1;31mValueError\u001B[0m                                Traceback (most recent call last)",
      "\u001B[1;32m~\\AppData\\Local\\Temp/ipykernel_13336/2016943683.py\u001B[0m in \u001B[0;36m<module>\u001B[1;34m\u001B[0m\n\u001B[1;32m----> 1\u001B[1;33m \u001B[0mtree\u001B[0m\u001B[1;33m.\u001B[0m\u001B[0mpredict\u001B[0m\u001B[1;33m(\u001B[0m\u001B[1;33m[\u001B[0m\u001B[1;33m[\u001B[0m\u001B[1;36m0\u001B[0m\u001B[1;33m,\u001B[0m\u001B[1;36m0\u001B[0m\u001B[1;33m,\u001B[0m\u001B[1;36m1\u001B[0m\u001B[1;33m]\u001B[0m\u001B[1;33m]\u001B[0m\u001B[1;33m)\u001B[0m\u001B[1;33m\u001B[0m\u001B[1;33m\u001B[0m\u001B[0m\n\u001B[0m\u001B[0;32m      2\u001B[0m \u001B[1;33m\u001B[0m\u001B[0m\n",
      "\u001B[1;32mD:\\ProgramData\\Anaconda3\\envs\\mesa\\lib\\site-packages\\sklearn\\tree\\tree.py\u001B[0m in \u001B[0;36mpredict\u001B[1;34m(self, X, check_input)\u001B[0m\n\u001B[0;32m    428\u001B[0m         \"\"\"\n\u001B[0;32m    429\u001B[0m         \u001B[0mcheck_is_fitted\u001B[0m\u001B[1;33m(\u001B[0m\u001B[0mself\u001B[0m\u001B[1;33m,\u001B[0m \u001B[1;34m'tree_'\u001B[0m\u001B[1;33m)\u001B[0m\u001B[1;33m\u001B[0m\u001B[1;33m\u001B[0m\u001B[0m\n\u001B[1;32m--> 430\u001B[1;33m         \u001B[0mX\u001B[0m \u001B[1;33m=\u001B[0m \u001B[0mself\u001B[0m\u001B[1;33m.\u001B[0m\u001B[0m_validate_X_predict\u001B[0m\u001B[1;33m(\u001B[0m\u001B[0mX\u001B[0m\u001B[1;33m,\u001B[0m \u001B[0mcheck_input\u001B[0m\u001B[1;33m)\u001B[0m\u001B[1;33m\u001B[0m\u001B[1;33m\u001B[0m\u001B[0m\n\u001B[0m\u001B[0;32m    431\u001B[0m         \u001B[0mproba\u001B[0m \u001B[1;33m=\u001B[0m \u001B[0mself\u001B[0m\u001B[1;33m.\u001B[0m\u001B[0mtree_\u001B[0m\u001B[1;33m.\u001B[0m\u001B[0mpredict\u001B[0m\u001B[1;33m(\u001B[0m\u001B[0mX\u001B[0m\u001B[1;33m)\u001B[0m\u001B[1;33m\u001B[0m\u001B[1;33m\u001B[0m\u001B[0m\n\u001B[0;32m    432\u001B[0m         \u001B[0mn_samples\u001B[0m \u001B[1;33m=\u001B[0m \u001B[0mX\u001B[0m\u001B[1;33m.\u001B[0m\u001B[0mshape\u001B[0m\u001B[1;33m[\u001B[0m\u001B[1;36m0\u001B[0m\u001B[1;33m]\u001B[0m\u001B[1;33m\u001B[0m\u001B[1;33m\u001B[0m\u001B[0m\n",
      "\u001B[1;32mD:\\ProgramData\\Anaconda3\\envs\\mesa\\lib\\site-packages\\sklearn\\tree\\tree.py\u001B[0m in \u001B[0;36m_validate_X_predict\u001B[1;34m(self, X, check_input)\u001B[0m\n\u001B[0;32m    400\u001B[0m                              \u001B[1;34m\"match the input. Model n_features is %s and \"\u001B[0m\u001B[1;33m\u001B[0m\u001B[1;33m\u001B[0m\u001B[0m\n\u001B[0;32m    401\u001B[0m                              \u001B[1;34m\"input n_features is %s \"\u001B[0m\u001B[1;33m\u001B[0m\u001B[1;33m\u001B[0m\u001B[0m\n\u001B[1;32m--> 402\u001B[1;33m                              % (self.n_features_, n_features))\n\u001B[0m\u001B[0;32m    403\u001B[0m \u001B[1;33m\u001B[0m\u001B[0m\n\u001B[0;32m    404\u001B[0m         \u001B[1;32mreturn\u001B[0m \u001B[0mX\u001B[0m\u001B[1;33m\u001B[0m\u001B[1;33m\u001B[0m\u001B[0m\n",
      "\u001B[1;31mValueError\u001B[0m: Number of features of the model must match the input. Model n_features is 5 and input n_features is 3 "
     ]
    }
   ],
   "source": [
    "tree.predict([[0,0,1]])"
   ]
  },
  {
   "cell_type": "code",
   "execution_count": null,
   "outputs": [],
   "source": [
    "data = pd.DataFrame()\n",
    "data['A'] = ['a','c','b','a']\n",
    "data['B'] = ['b','c','a','b']\n",
    "data['C'] = [0, 0, 1, 0]\n",
    "data['Class'] = ['n','n','y','n']\n",
    "X_train = data[data.columns.tolist()[:-1]]\n",
    "y_train = data['Class']\n",
    "print(data)\n",
    "mask_maj_train, mask_min_train = (y_train=='n'), (y_train=='y')\n",
    "print(mask_maj_train)\n",
    "print(X_train[mask_maj_train])\n",
    "# pd.DataFrame(X_train).sample(n_under_samples, weights=sample_weights, random_state=random_state)"
   ],
   "metadata": {
    "collapsed": false,
    "pycharm": {
     "name": "#%%\n"
    }
   }
  },
  {
   "cell_type": "code",
   "execution_count": null,
   "metadata": {
    "collapsed": false,
    "pycharm": {
     "name": "#%%\n"
    }
   },
   "outputs": [],
   "source": [
    "check_init()"
   ]
  },
  {
   "cell_type": "code",
   "execution_count": null,
   "outputs": [],
   "source": [
    "from sklearn.model_selection import train_test_split\n",
    "data_path = \"G:\\\\OneDrive - teleworm\\\\code\\\\4research\\\\datasets\\\\german-credit\\\\german.csv\"\n",
    "train_df = pd.read_csv(data_path)\n",
    "train_df = pd.get_dummies(train_df)\n",
    "X_train, X_test, y_train, y_test = train_test_split(train_df.iloc[:, :-1], train_df.iloc[:, -1:],\n",
    "                                                    stratify=train_df.iloc[:, -1:], test_size=0.2, random_state=66)\n",
    "X_train, X_valid, y_train, y_valid = train_test_split(X_train, y_train,\n",
    "                                                      stratify=y_train, test_size=0.25, random_state=66)\n",
    "print(X_train.shape, X_valid.shape, X_test.shape)\n",
    "print(y_train.shape, y_valid.shape, y_test.shape)"
   ],
   "metadata": {
    "collapsed": false,
    "pycharm": {
     "name": "#%%\n"
    }
   }
  },
  {
   "cell_type": "code",
   "execution_count": null,
   "metadata": {
    "collapsed": false,
    "pycharm": {
     "name": "#%%\n"
    }
   },
   "outputs": [],
   "source": [
    "import pandas as pd\n",
    "X_train = pd.DataFrame(X_train)\n",
    "print(X_train.shape)\n",
    "print((y_train==1).sum())"
   ]
  },
  {
   "cell_type": "code",
   "execution_count": null,
   "outputs": [],
   "source": [
    "y_train = pd.Series((y_train))\n",
    "print(y_train.shape)"
   ],
   "metadata": {
    "collapsed": false,
    "pycharm": {
     "name": "#%%\n"
    }
   }
  },
  {
   "cell_type": "code",
   "execution_count": null,
   "outputs": [],
   "source": [
    "# X_valid,  y_valid = pd.DataFrame(X_valid), pd.Series(y_valid)\n",
    "# X_test,   y_test  = pd.DataFrame(X_test),  pd.Series(y_test)"
   ],
   "metadata": {
    "collapsed": false,
    "pycharm": {
     "name": "#%%\n"
    }
   }
  },
  {
   "cell_type": "code",
   "execution_count": null,
   "outputs": [],
   "source": [
    "mask_maj_train,  mask_min_train = (y_train==1), (y_train==2)\n",
    "mask_maj_valid,  mask_min_valid = (y_valid==1), (y_valid==2)\n",
    "n_min_samples =  mask_min_train.shape[0]\n",
    "n_samples = int( n_min_samples* 1)\n",
    "print(n_samples)\n",
    "# if n_samples >  mask_maj_train.sum():\n",
    "#     raise ValueError(f\"\\\n",
    "#         Argument 'train_ir' should be smaller than imbalance ratio,\\n \\\n",
    "#         Please set this parameter to < { mask_maj_train.sum()/ mask_min_train.sum()}.\\\n",
    "#         \")\n",
    "# n_samples = n_samples"
   ],
   "metadata": {
    "collapsed": false,
    "pycharm": {
     "name": "#%%\n"
    }
   }
  },
  {
   "cell_type": "code",
   "execution_count": 21,
   "outputs": [
    {
     "name": "stdout",
     "output_type": "stream",
     "text": [
      "label                                       0\n",
      "RevolvingUtilizationOfUnsecuredLines        0\n",
      "age                                         0\n",
      "NumberOfTime30-59DaysPastDueNotWorse        0\n",
      "DebtRatio                                   0\n",
      "MonthlyIncome                           29731\n",
      "NumberOfOpenCreditLinesAndLoans             0\n",
      "NumberOfTimes90DaysLate                     0\n",
      "NumberRealEstateLoansOrLines                0\n",
      "NumberOfTime60-89DaysPastDueNotWorse        0\n",
      "NumberOfDependents                       3924\n",
      "dtype: int64\n",
      "label                                   0\n",
      "RevolvingUtilizationOfUnsecuredLines    0\n",
      "age                                     0\n",
      "NumberOfTime30-59DaysPastDueNotWorse    0\n",
      "DebtRatio                               0\n",
      "MonthlyIncome                           0\n",
      "NumberOfOpenCreditLinesAndLoans         0\n",
      "NumberOfTimes90DaysLate                 0\n",
      "NumberRealEstateLoansOrLines            0\n",
      "NumberOfTime60-89DaysPastDueNotWorse    0\n",
      "NumberOfDependents                      0\n",
      "dtype: int64\n",
      "done\n"
     ]
    }
   ],
   "source": [
    "#!make cs-training data\n",
    "\n",
    "data_path = \"G:\\\\OneDrive - teleworm\\\\code\\\\4research\\\\datasets\\\\cs-training.csv\"\n",
    "train_df = pd.read_csv(data_path)\n",
    "#!删除序号的列\n",
    "train_df.drop(train_df[['index']],axis=1,inplace=True)\n",
    "print(train_df.isna().sum())\n",
    "#!删除月收入缺失值的样本\n",
    "train_df.drop(train_df[train_df['MonthlyIncome'].isna()==True].index,inplace=True)\n",
    "#!把家庭成员属性类型改成int\n",
    "train_df.NumberOfDependents = train_df.NumberOfDependents.astype('int64')\n",
    "print(train_df.isna().sum())\n",
    "\n",
    "train_df.to_csv(\"cs-training-clean.csv\",sep=',', encoding='utf-8')\n",
    "print(\"done\")"
   ],
   "metadata": {
    "collapsed": false,
    "pycharm": {
     "name": "#%%\n"
    }
   }
  }
 ],
 "metadata": {
  "kernelspec": {
   "display_name": "Python 3",
   "language": "python",
   "name": "python3"
  },
  "language_info": {
   "codemirror_mode": {
    "name": "ipython",
    "version": 3
   },
   "file_extension": ".py",
   "mimetype": "text/x-python",
   "name": "python",
   "nbconvert_exporter": "python",
   "pygments_lexer": "ipython3",
   "version": "3.7.11"
  }
 },
 "nbformat": 4,
 "nbformat_minor": 0
}