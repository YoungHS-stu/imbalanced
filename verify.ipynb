{
 "cells": [
  {
   "cell_type": "code",
   "execution_count": 10,
   "metadata": {
    "collapsed": true,
    "pycharm": {
     "name": "#%%\n"
    }
   },
   "outputs": [],
   "source": [
    "from collections import Counter\n",
    "import pandas as pd\n",
    "import numpy as np\n",
    "import datetime\n",
    "import time\n",
    "import os\n",
    "import platform\n",
    "from config import *"
   ]
  },
  {
   "cell_type": "code",
   "execution_count": 18,
   "outputs": [
    {
     "name": "stdout",
     "output_type": "stream",
     "text": [
      "(146009, 52)\n",
      "main_account_loan_no             0\n",
      "main_account_active_loan_no      0\n",
      "main_account_overdue_no          0\n",
      "main_account_outstanding_loan    0\n",
      "main_account_sanction_loan       0\n",
      "main_account_disbursed_loan      0\n",
      "sub_account_loan_no              0\n",
      "sub_account_active_loan_no       0\n",
      "sub_account_overdue_no           0\n",
      "sub_account_outstanding_loan     0\n",
      "sub_account_sanction_loan        0\n",
      "sub_account_disbursed_loan       0\n",
      "disbursed_amount                 0\n",
      "asset_cost                       0\n",
      "branch_id                        0\n",
      "supplier_id                      0\n",
      "manufacturer_id                  0\n",
      "area_id                          0\n",
      "employee_code_id                 0\n",
      "mobileno_flag                    0\n",
      "idcard_flag                      0\n",
      "Driving_flag                     0\n",
      "passport_flag                    0\n",
      "credit_score                     0\n",
      "main_account_monthly_payment     0\n",
      "sub_account_monthly_payment      0\n",
      "last_six_month_new_loan_no       0\n",
      "last_six_month_defaulted_no      0\n",
      "average_age                      0\n",
      "credit_history                   0\n",
      "enquirie_no                      0\n",
      "loan_to_asset_ratio              0\n",
      "total_account_loan_no            0\n",
      "sub_account_inactive_loan_no     0\n",
      "total_inactive_loan_no           0\n",
      "main_account_inactive_loan_no    0\n",
      "total_overdue_no                 0\n",
      "total_outstanding_loan           0\n",
      "total_sanction_loan              0\n",
      "total_disbursed_loan             0\n",
      "total_monthly_payment            0\n",
      "outstanding_disburse_ratio       0\n",
      "main_account_tenure              0\n",
      "sub_account_tenure               0\n",
      "disburse_to_sactioned_ratio      0\n",
      "active_to_inactive_act_ratio     0\n",
      "year_of_birth                    0\n",
      "disbursed_date                   0\n",
      "Credit_level                     0\n",
      "employment_type                  0\n",
      "age                              0\n",
      "label                            0\n",
      "dtype: int64\n"
     ]
    }
   ],
   "source": [
    "train_df = data_loader.load_csv_to_pandas('./datasets/car/train.csv')\n",
    "print(train_df.shape)\n",
    "print(train_df.isna().sum())"
   ],
   "metadata": {
    "collapsed": false,
    "pycharm": {
     "name": "#%%\n"
    }
   }
  },
  {
   "cell_type": "code",
   "execution_count": 19,
   "outputs": [
    {
     "name": "stdout",
     "output_type": "stream",
     "text": [
      "main_account_loan_no             0\n",
      "main_account_active_loan_no      0\n",
      "main_account_overdue_no          0\n",
      "main_account_outstanding_loan    0\n",
      "main_account_sanction_loan       0\n",
      "main_account_disbursed_loan      0\n",
      "sub_account_loan_no              0\n",
      "sub_account_active_loan_no       0\n",
      "sub_account_overdue_no           0\n",
      "sub_account_outstanding_loan     0\n",
      "sub_account_sanction_loan        0\n",
      "sub_account_disbursed_loan       0\n",
      "disbursed_amount                 0\n",
      "asset_cost                       0\n",
      "branch_id                        0\n",
      "supplier_id                      0\n",
      "manufacturer_id                  0\n",
      "area_id                          0\n",
      "employee_code_id                 0\n",
      "mobileno_flag                    0\n",
      "idcard_flag                      0\n",
      "Driving_flag                     0\n",
      "passport_flag                    0\n",
      "credit_score                     0\n",
      "main_account_monthly_payment     0\n",
      "sub_account_monthly_payment      0\n",
      "last_six_month_new_loan_no       0\n",
      "last_six_month_defaulted_no      0\n",
      "average_age                      0\n",
      "credit_history                   0\n",
      "enquirie_no                      0\n",
      "loan_to_asset_ratio              0\n",
      "total_account_loan_no            0\n",
      "sub_account_inactive_loan_no     0\n",
      "total_inactive_loan_no           0\n",
      "main_account_inactive_loan_no    0\n",
      "total_overdue_no                 0\n",
      "total_outstanding_loan           0\n",
      "total_sanction_loan              0\n",
      "total_disbursed_loan             0\n",
      "total_monthly_payment            0\n",
      "outstanding_disburse_ratio       0\n",
      "main_account_tenure              0\n",
      "sub_account_tenure               0\n",
      "disburse_to_sactioned_ratio      0\n",
      "active_to_inactive_act_ratio     0\n",
      "year_of_birth                    0\n",
      "disbursed_date                   0\n",
      "Credit_level                     0\n",
      "employment_type                  0\n",
      "age                              0\n",
      "label                            0\n",
      "dtype: int64\n"
     ]
    }
   ],
   "source": [
    "isna_series = train_df.isna().sum()\n",
    "print(isna_series)"
   ],
   "metadata": {
    "collapsed": false,
    "pycharm": {
     "name": "#%%\n"
    }
   }
  },
  {
   "cell_type": "code",
   "execution_count": 20,
   "outputs": [
    {
     "name": "stdout",
     "output_type": "stream",
     "text": [
      "(146009, 52)\n",
      "main_account_loan_no             0\n",
      "main_account_active_loan_no      0\n",
      "main_account_overdue_no          0\n",
      "main_account_outstanding_loan    0\n",
      "main_account_sanction_loan       0\n",
      "main_account_disbursed_loan      0\n",
      "sub_account_loan_no              0\n",
      "sub_account_active_loan_no       0\n",
      "sub_account_overdue_no           0\n",
      "sub_account_outstanding_loan     0\n",
      "sub_account_sanction_loan        0\n",
      "sub_account_disbursed_loan       0\n",
      "disbursed_amount                 0\n",
      "asset_cost                       0\n",
      "branch_id                        0\n",
      "supplier_id                      0\n",
      "manufacturer_id                  0\n",
      "area_id                          0\n",
      "employee_code_id                 0\n",
      "mobileno_flag                    0\n",
      "idcard_flag                      0\n",
      "Driving_flag                     0\n",
      "passport_flag                    0\n",
      "credit_score                     0\n",
      "main_account_monthly_payment     0\n",
      "sub_account_monthly_payment      0\n",
      "last_six_month_new_loan_no       0\n",
      "last_six_month_defaulted_no      0\n",
      "average_age                      0\n",
      "credit_history                   0\n",
      "enquirie_no                      0\n",
      "loan_to_asset_ratio              0\n",
      "total_account_loan_no            0\n",
      "sub_account_inactive_loan_no     0\n",
      "total_inactive_loan_no           0\n",
      "main_account_inactive_loan_no    0\n",
      "total_overdue_no                 0\n",
      "total_outstanding_loan           0\n",
      "total_sanction_loan              0\n",
      "total_disbursed_loan             0\n",
      "total_monthly_payment            0\n",
      "outstanding_disburse_ratio       0\n",
      "main_account_tenure              0\n",
      "sub_account_tenure               0\n",
      "disburse_to_sactioned_ratio      0\n",
      "active_to_inactive_act_ratio     0\n",
      "year_of_birth                    0\n",
      "disbursed_date                   0\n",
      "Credit_level                     0\n",
      "employment_type                  0\n",
      "age                              0\n",
      "label                            0\n",
      "dtype: int64\n"
     ]
    }
   ],
   "source": [
    "for item in isna_series.index:\n",
    "    train_df.drop(train_df[train_df[item].isna()].index, inplace=True)\n",
    "print(train_df.shape)\n",
    "print(train_df.isna().sum())"
   ],
   "metadata": {
    "collapsed": false,
    "pycharm": {
     "name": "#%%\n"
    }
   }
  },
  {
   "cell_type": "code",
   "execution_count": 23,
   "outputs": [
    {
     "name": "stdout",
     "output_type": "stream",
     "text": [
      "(146009, 51)\n",
      "(146009,)\n",
      "(120915, 51)\n"
     ]
    }
   ],
   "source": [
    "train_df_X, train_df_y = train_df.loc[:, train_df.columns != 'label'], train_df['label']\n",
    "print(train_df_X.shape)\n",
    "print(train_df_y.shape)\n",
    "print(train_df_X[train_df_y==1].shape)"
   ],
   "metadata": {
    "collapsed": false,
    "pycharm": {
     "name": "#%%\n"
    }
   }
  },
  {
   "cell_type": "code",
   "execution_count": 17,
   "outputs": [
    {
     "name": "stdout",
     "output_type": "stream",
     "text": [
      "making data categorical\n",
      "   main_account_loan_no  main_account_active_loan_no  main_account_overdue_no  \\\n",
      "0                     4                            3                        0   \n",
      "1                     7                            2                        0   \n",
      "2                     5                            4                        1   \n",
      "3                     0                            0                        0   \n",
      "4                     0                            0                        0   \n",
      "\n",
      "   main_account_outstanding_loan  main_account_sanction_loan  \\\n",
      "0                         384989                      666207   \n",
      "1                         268670                      387994   \n",
      "2                        3519013                     3613854   \n",
      "3                              0                           0   \n",
      "4                              0                           0   \n",
      "\n",
      "   main_account_disbursed_loan  sub_account_loan_no  \\\n",
      "0                       666207                    0   \n",
      "1                       387994                    0   \n",
      "2                      3576048                    0   \n",
      "3                            0                    0   \n",
      "4                            0                    0   \n",
      "\n",
      "   sub_account_active_loan_no  sub_account_overdue_no  \\\n",
      "0                           0                       0   \n",
      "1                           0                       0   \n",
      "2                           0                       0   \n",
      "3                           0                       0   \n",
      "4                           0                       0   \n",
      "\n",
      "   sub_account_outstanding_loan  ...  outstanding_disburse_ratio  \\\n",
      "0                             0  ...                        1.73   \n",
      "1                             0  ...                        1.44   \n",
      "2                             0  ...                        1.02   \n",
      "3                             0  ...                        1.00   \n",
      "4                             0  ...                        1.00   \n",
      "\n",
      "   main_account_tenure  sub_account_tenure  disburse_to_sactioned_ratio  \\\n",
      "0                   81                   0                         1.00   \n",
      "1                  161                   0                         1.00   \n",
      "2              3576048                   0                         0.99   \n",
      "3                    0                   0                         1.00   \n",
      "4                    0                   0                         1.00   \n",
      "\n",
      "   active_to_inactive_act_ratio  year_of_birth  disbursed_date  Credit_level  \\\n",
      "0                          2.50           1968            2019             1   \n",
      "1                          1.33           1992            2019             9   \n",
      "2                          3.00           1991            2019            13   \n",
      "3                          1.00           1995            2019            -1   \n",
      "4                          1.00           1978            2019            -1   \n",
      "\n",
      "   employment_type  age  \n",
      "0                0   51  \n",
      "1                0   27  \n",
      "2                1   28  \n",
      "3                0   24  \n",
      "4                1   41  \n",
      "\n",
      "[5 rows x 51 columns]\n"
     ]
    }
   ],
   "source": [
    "train_df_X = data_preprocessor.onehotalize_data(train_df_X)\n",
    "print(train_df_X.head())"
   ],
   "metadata": {
    "collapsed": false,
    "pycharm": {
     "name": "#%%\n"
    }
   }
  },
  {
   "cell_type": "code",
   "execution_count": 8,
   "outputs": [],
   "source": [
    "from sklearn.model_selection import train_test_split\n",
    "X_train, X_test, y_train, y_test = train_test_split(train_df_X, train_df_y, test_size=0.3, random_state=1)"
   ],
   "metadata": {
    "collapsed": false,
    "pycharm": {
     "name": "#%%\n"
    }
   }
  },
  {
   "cell_type": "code",
   "execution_count": 17,
   "outputs": [],
   "source": [
    "from imblearn.over_sampling import RandomOverSampler\n",
    "X_train_rsmpl, y_train_rsmpl = RandomOverSampler(random_state=0).fit_resample(X_train, y_train)"
   ],
   "metadata": {
    "collapsed": false,
    "pycharm": {
     "name": "#%%\n"
    }
   }
  },
  {
   "cell_type": "code",
   "execution_count": 18,
   "outputs": [],
   "source": [
    "from sklearn.ensemble import RandomForestClassifier\n",
    "random_forest_classifier = RandomForestClassifier(n_estimators=50, random_state=1, n_jobs=5)\n",
    "random_forest_classifier.fit(X_train, y_train)\n",
    "y_predict = random_forest_classifier.predict(X_test)"
   ],
   "metadata": {
    "collapsed": false,
    "pycharm": {
     "name": "#%%\n"
    }
   }
  },
  {
   "cell_type": "code",
   "execution_count": 19,
   "outputs": [
    {
     "name": "stdout",
     "output_type": "stream",
     "text": [
      "precision:[0.41082803 0.82922118] recall:[0.01707253 0.99489613], fscore:[0.03278272 0.90453497], support:[ 7556 36247], gmean:0.13032800614338028\n",
      "\n"
     ]
    }
   ],
   "source": [
    "from sklearn.metrics import precision_recall_fscore_support\n",
    "precision, recall, fscore, support = precision_recall_fscore_support(y_test, y_predict)\n",
    "gmean2 = (recall[0]*recall[1])**0.5\n",
    "print(\"precision:{} recall:{}, fscore:{}, support:{}, gmean:{}\\n\".format(precision, recall, fscore,\n",
    "                                                             support,gmean2))\n"
   ],
   "metadata": {
    "collapsed": false,
    "pycharm": {
     "name": "#%%\n"
    }
   }
  }
 ],
 "metadata": {
  "kernelspec": {
   "display_name": "Python 3",
   "language": "python",
   "name": "python3"
  },
  "language_info": {
   "codemirror_mode": {
    "name": "ipython",
    "version": 2
   },
   "file_extension": ".py",
   "mimetype": "text/x-python",
   "name": "python",
   "nbconvert_exporter": "python",
   "pygments_lexer": "ipython2",
   "version": "2.7.6"
  }
 },
 "nbformat": 4,
 "nbformat_minor": 0
}