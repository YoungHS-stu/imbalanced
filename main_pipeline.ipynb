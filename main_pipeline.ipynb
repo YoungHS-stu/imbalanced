{
 "cells": [
  {
   "cell_type": "code",
   "execution_count": 1,
   "metadata": {
    "collapsed": true
   },
   "outputs": [],
   "source": [
    "from collections import Counter\n",
    "import pandas as pd\n",
    "import numpy as np\n",
    "from config import *\n",
    "data_path = \"G:/OneDrive - teleworm/code/4research/python/projects/imbalanced/datasets/cs-train/cs-train.csv\"\n",
    "train_df = data_loader.load_csv_to_pandas(data_path)"
   ]
  },
  {
   "cell_type": "code",
   "execution_count": 2,
   "outputs": [
    {
     "data": {
      "text/plain": "label                                       0\nRevolvingUtilizationOfUnsecuredLines        0\nage                                         0\nNumberOfTime30-59DaysPastDueNotWorse        0\nDebtRatio                                   0\nMonthlyIncome                           29731\nNumberOfOpenCreditLinesAndLoans             0\nNumberOfTimes90DaysLate                     0\nNumberRealEstateLoansOrLines                0\nNumberOfTime60-89DaysPastDueNotWorse        0\nNumberOfDependents                       3924\ndtype: int64"
     },
     "execution_count": 2,
     "metadata": {},
     "output_type": "execute_result"
    }
   ],
   "source": [
    "train_df.isna().sum()"
   ],
   "metadata": {
    "collapsed": false,
    "pycharm": {
     "name": "#%%\n"
    }
   }
  },
  {
   "cell_type": "code",
   "execution_count": 3,
   "outputs": [],
   "source": [
    "# train_df[\"MonthlyIncome\"].isna()\n",
    "\n",
    "# train_df[train_df[\"MonthlyIncome\"].isna()][train_df[\"NumberOfDependents\"].isna()].shape"
   ],
   "metadata": {
    "collapsed": false,
    "pycharm": {
     "name": "#%%\n"
    }
   }
  },
  {
   "cell_type": "code",
   "execution_count": 4,
   "outputs": [
    {
     "data": {
      "text/plain": "               label  RevolvingUtilizationOfUnsecuredLines            age  \\\ncount  120269.000000                         120269.000000  120269.000000   \nmean        0.930514                              5.899873      51.289792   \nstd         0.254280                            257.040685      14.426684   \nmin         0.000000                              0.000000       0.000000   \n25%         1.000000                              0.035084      40.000000   \n50%         1.000000                              0.177282      51.000000   \n75%         1.000000                              0.579428      61.000000   \nmax         1.000000                          50708.000000     103.000000   \n\n       NumberOfTime30-59DaysPastDueNotWorse      DebtRatio  MonthlyIncome  \\\ncount                         120269.000000  120269.000000   1.202690e+05   \nmean                               0.381769      26.598777   6.670221e+03   \nstd                                3.499234     424.446457   1.438467e+04   \nmin                                0.000000       0.000000   0.000000e+00   \n25%                                0.000000       0.143388   3.400000e+03   \n50%                                0.000000       0.296023   5.400000e+03   \n75%                                0.000000       0.482559   8.249000e+03   \nmax                               98.000000   61106.500000   3.008750e+06   \n\n       NumberOfOpenCreditLinesAndLoans  NumberOfTimes90DaysLate  \\\ncount                    120269.000000            120269.000000   \nmean                          8.758475                 0.211925   \nstd                           5.172835                 3.465276   \nmin                           0.000000                 0.000000   \n25%                           5.000000                 0.000000   \n50%                           8.000000                 0.000000   \n75%                          11.000000                 0.000000   \nmax                          58.000000                98.000000   \n\n       NumberRealEstateLoansOrLines  NumberOfTime60-89DaysPastDueNotWorse  \\\ncount                 120269.000000                         120269.000000   \nmean                       1.054519                              0.187829   \nstd                        1.149273                              3.447901   \nmin                        0.000000                              0.000000   \n25%                        0.000000                              0.000000   \n50%                        1.000000                              0.000000   \n75%                        2.000000                              0.000000   \nmax                       54.000000                             98.000000   \n\n       NumberOfDependents  \ncount       120269.000000  \nmean             0.851832  \nstd              1.148391  \nmin              0.000000  \n25%              0.000000  \n50%              0.000000  \n75%              2.000000  \nmax             20.000000  ",
      "text/html": "<div>\n<style scoped>\n    .dataframe tbody tr th:only-of-type {\n        vertical-align: middle;\n    }\n\n    .dataframe tbody tr th {\n        vertical-align: top;\n    }\n\n    .dataframe thead th {\n        text-align: right;\n    }\n</style>\n<table border=\"1\" class=\"dataframe\">\n  <thead>\n    <tr style=\"text-align: right;\">\n      <th></th>\n      <th>label</th>\n      <th>RevolvingUtilizationOfUnsecuredLines</th>\n      <th>age</th>\n      <th>NumberOfTime30-59DaysPastDueNotWorse</th>\n      <th>DebtRatio</th>\n      <th>MonthlyIncome</th>\n      <th>NumberOfOpenCreditLinesAndLoans</th>\n      <th>NumberOfTimes90DaysLate</th>\n      <th>NumberRealEstateLoansOrLines</th>\n      <th>NumberOfTime60-89DaysPastDueNotWorse</th>\n      <th>NumberOfDependents</th>\n    </tr>\n  </thead>\n  <tbody>\n    <tr>\n      <th>count</th>\n      <td>120269.000000</td>\n      <td>120269.000000</td>\n      <td>120269.000000</td>\n      <td>120269.000000</td>\n      <td>120269.000000</td>\n      <td>1.202690e+05</td>\n      <td>120269.000000</td>\n      <td>120269.000000</td>\n      <td>120269.000000</td>\n      <td>120269.000000</td>\n      <td>120269.000000</td>\n    </tr>\n    <tr>\n      <th>mean</th>\n      <td>0.930514</td>\n      <td>5.899873</td>\n      <td>51.289792</td>\n      <td>0.381769</td>\n      <td>26.598777</td>\n      <td>6.670221e+03</td>\n      <td>8.758475</td>\n      <td>0.211925</td>\n      <td>1.054519</td>\n      <td>0.187829</td>\n      <td>0.851832</td>\n    </tr>\n    <tr>\n      <th>std</th>\n      <td>0.254280</td>\n      <td>257.040685</td>\n      <td>14.426684</td>\n      <td>3.499234</td>\n      <td>424.446457</td>\n      <td>1.438467e+04</td>\n      <td>5.172835</td>\n      <td>3.465276</td>\n      <td>1.149273</td>\n      <td>3.447901</td>\n      <td>1.148391</td>\n    </tr>\n    <tr>\n      <th>min</th>\n      <td>0.000000</td>\n      <td>0.000000</td>\n      <td>0.000000</td>\n      <td>0.000000</td>\n      <td>0.000000</td>\n      <td>0.000000e+00</td>\n      <td>0.000000</td>\n      <td>0.000000</td>\n      <td>0.000000</td>\n      <td>0.000000</td>\n      <td>0.000000</td>\n    </tr>\n    <tr>\n      <th>25%</th>\n      <td>1.000000</td>\n      <td>0.035084</td>\n      <td>40.000000</td>\n      <td>0.000000</td>\n      <td>0.143388</td>\n      <td>3.400000e+03</td>\n      <td>5.000000</td>\n      <td>0.000000</td>\n      <td>0.000000</td>\n      <td>0.000000</td>\n      <td>0.000000</td>\n    </tr>\n    <tr>\n      <th>50%</th>\n      <td>1.000000</td>\n      <td>0.177282</td>\n      <td>51.000000</td>\n      <td>0.000000</td>\n      <td>0.296023</td>\n      <td>5.400000e+03</td>\n      <td>8.000000</td>\n      <td>0.000000</td>\n      <td>1.000000</td>\n      <td>0.000000</td>\n      <td>0.000000</td>\n    </tr>\n    <tr>\n      <th>75%</th>\n      <td>1.000000</td>\n      <td>0.579428</td>\n      <td>61.000000</td>\n      <td>0.000000</td>\n      <td>0.482559</td>\n      <td>8.249000e+03</td>\n      <td>11.000000</td>\n      <td>0.000000</td>\n      <td>2.000000</td>\n      <td>0.000000</td>\n      <td>2.000000</td>\n    </tr>\n    <tr>\n      <th>max</th>\n      <td>1.000000</td>\n      <td>50708.000000</td>\n      <td>103.000000</td>\n      <td>98.000000</td>\n      <td>61106.500000</td>\n      <td>3.008750e+06</td>\n      <td>58.000000</td>\n      <td>98.000000</td>\n      <td>54.000000</td>\n      <td>98.000000</td>\n      <td>20.000000</td>\n    </tr>\n  </tbody>\n</table>\n</div>"
     },
     "execution_count": 4,
     "metadata": {},
     "output_type": "execute_result"
    }
   ],
   "source": [
    "train_df[~train_df[\"MonthlyIncome\"].isna()].describe()"
   ],
   "metadata": {
    "collapsed": false,
    "pycharm": {
     "name": "#%%\n"
    }
   }
  },
  {
   "cell_type": "code",
   "execution_count": 5,
   "outputs": [
    {
     "data": {
      "text/plain": "              label  RevolvingUtilizationOfUnsecuredLines           age  \\\ncount  29731.000000                          29731.000000  29731.000000   \nmean       0.943863                              6.649421     56.362349   \nstd        0.230189                            217.814854     15.438786   \nmin        0.000000                              0.000000     21.000000   \n25%        1.000000                              0.016027     46.000000   \n50%        1.000000                              0.081697     57.000000   \n75%        1.000000                              0.440549     67.000000   \nmax        1.000000                          22198.000000    109.000000   \n\n       NumberOfTime30-59DaysPastDueNotWorse      DebtRatio  MonthlyIncome  \\\ncount                          29731.000000   29731.000000            0.0   \nmean                               0.579866    1673.396556            NaN   \nstd                                6.255361    4248.372895            NaN   \nmin                                0.000000       0.000000            NaN   \n25%                                0.000000     123.000000            NaN   \n50%                                0.000000    1159.000000            NaN   \n75%                                0.000000    2382.000000            NaN   \nmax                               98.000000  329664.000000            NaN   \n\n       NumberOfOpenCreditLinesAndLoans  NumberOfTimes90DaysLate  \\\ncount                     29731.000000             29731.000000   \nmean                          7.216071                 0.484612   \nstd                           4.842720                 6.250408   \nmin                           0.000000                 0.000000   \n25%                           4.000000                 0.000000   \n50%                           6.000000                 0.000000   \n75%                          10.000000                 0.000000   \nmax                          45.000000                98.000000   \n\n       NumberRealEstateLoansOrLines  NumberOfTime60-89DaysPastDueNotWorse  \\\ncount                  29731.000000                          29731.000000   \nmean                       0.871481                              0.452995   \nstd                        1.034291                              6.242076   \nmin                        0.000000                              0.000000   \n25%                        0.000000                              0.000000   \n50%                        1.000000                              0.000000   \n75%                        1.000000                              0.000000   \nmax                       23.000000                             98.000000   \n\n       NumberOfDependents  \ncount        25807.000000  \nmean             0.316310  \nstd              0.809944  \nmin              0.000000  \n25%              0.000000  \n50%              0.000000  \n75%              0.000000  \nmax              9.000000  ",
      "text/html": "<div>\n<style scoped>\n    .dataframe tbody tr th:only-of-type {\n        vertical-align: middle;\n    }\n\n    .dataframe tbody tr th {\n        vertical-align: top;\n    }\n\n    .dataframe thead th {\n        text-align: right;\n    }\n</style>\n<table border=\"1\" class=\"dataframe\">\n  <thead>\n    <tr style=\"text-align: right;\">\n      <th></th>\n      <th>label</th>\n      <th>RevolvingUtilizationOfUnsecuredLines</th>\n      <th>age</th>\n      <th>NumberOfTime30-59DaysPastDueNotWorse</th>\n      <th>DebtRatio</th>\n      <th>MonthlyIncome</th>\n      <th>NumberOfOpenCreditLinesAndLoans</th>\n      <th>NumberOfTimes90DaysLate</th>\n      <th>NumberRealEstateLoansOrLines</th>\n      <th>NumberOfTime60-89DaysPastDueNotWorse</th>\n      <th>NumberOfDependents</th>\n    </tr>\n  </thead>\n  <tbody>\n    <tr>\n      <th>count</th>\n      <td>29731.000000</td>\n      <td>29731.000000</td>\n      <td>29731.000000</td>\n      <td>29731.000000</td>\n      <td>29731.000000</td>\n      <td>0.0</td>\n      <td>29731.000000</td>\n      <td>29731.000000</td>\n      <td>29731.000000</td>\n      <td>29731.000000</td>\n      <td>25807.000000</td>\n    </tr>\n    <tr>\n      <th>mean</th>\n      <td>0.943863</td>\n      <td>6.649421</td>\n      <td>56.362349</td>\n      <td>0.579866</td>\n      <td>1673.396556</td>\n      <td>NaN</td>\n      <td>7.216071</td>\n      <td>0.484612</td>\n      <td>0.871481</td>\n      <td>0.452995</td>\n      <td>0.316310</td>\n    </tr>\n    <tr>\n      <th>std</th>\n      <td>0.230189</td>\n      <td>217.814854</td>\n      <td>15.438786</td>\n      <td>6.255361</td>\n      <td>4248.372895</td>\n      <td>NaN</td>\n      <td>4.842720</td>\n      <td>6.250408</td>\n      <td>1.034291</td>\n      <td>6.242076</td>\n      <td>0.809944</td>\n    </tr>\n    <tr>\n      <th>min</th>\n      <td>0.000000</td>\n      <td>0.000000</td>\n      <td>21.000000</td>\n      <td>0.000000</td>\n      <td>0.000000</td>\n      <td>NaN</td>\n      <td>0.000000</td>\n      <td>0.000000</td>\n      <td>0.000000</td>\n      <td>0.000000</td>\n      <td>0.000000</td>\n    </tr>\n    <tr>\n      <th>25%</th>\n      <td>1.000000</td>\n      <td>0.016027</td>\n      <td>46.000000</td>\n      <td>0.000000</td>\n      <td>123.000000</td>\n      <td>NaN</td>\n      <td>4.000000</td>\n      <td>0.000000</td>\n      <td>0.000000</td>\n      <td>0.000000</td>\n      <td>0.000000</td>\n    </tr>\n    <tr>\n      <th>50%</th>\n      <td>1.000000</td>\n      <td>0.081697</td>\n      <td>57.000000</td>\n      <td>0.000000</td>\n      <td>1159.000000</td>\n      <td>NaN</td>\n      <td>6.000000</td>\n      <td>0.000000</td>\n      <td>1.000000</td>\n      <td>0.000000</td>\n      <td>0.000000</td>\n    </tr>\n    <tr>\n      <th>75%</th>\n      <td>1.000000</td>\n      <td>0.440549</td>\n      <td>67.000000</td>\n      <td>0.000000</td>\n      <td>2382.000000</td>\n      <td>NaN</td>\n      <td>10.000000</td>\n      <td>0.000000</td>\n      <td>1.000000</td>\n      <td>0.000000</td>\n      <td>0.000000</td>\n    </tr>\n    <tr>\n      <th>max</th>\n      <td>1.000000</td>\n      <td>22198.000000</td>\n      <td>109.000000</td>\n      <td>98.000000</td>\n      <td>329664.000000</td>\n      <td>NaN</td>\n      <td>45.000000</td>\n      <td>98.000000</td>\n      <td>23.000000</td>\n      <td>98.000000</td>\n      <td>9.000000</td>\n    </tr>\n  </tbody>\n</table>\n</div>"
     },
     "execution_count": 5,
     "metadata": {},
     "output_type": "execute_result"
    }
   ],
   "source": [
    "train_df[train_df[\"MonthlyIncome\"].isna()].describe()"
   ],
   "metadata": {
    "collapsed": false,
    "pycharm": {
     "name": "#%%\n"
    }
   }
  },
  {
   "cell_type": "code",
   "execution_count": 6,
   "outputs": [
    {
     "data": {
      "text/plain": "        label  RevolvingUtilizationOfUnsecuredLines  age  \\\n5           1                              0.213179   74   \n14          1                              0.019657   76   \n15          1                              0.548458   64   \n16          1                              0.061086   78   \n27          1                              0.034421   69   \n...       ...                                   ...  ...   \n149983      1                              0.002485   82   \n149984      1                              0.037548   84   \n149989      1                              0.013356   62   \n149995      1                              0.040674   74   \n149999      1                              0.850283   64   \n\n        NumberOfTime30-59DaysPastDueNotWorse    DebtRatio  MonthlyIncome  \\\n5                                          0     0.375607         3500.0   \n14                                         0   477.000000            0.0   \n15                                         0     0.209892        11362.0   \n16                                         0  2058.000000            NaN   \n27                                         0     0.042383         2500.0   \n...                                      ...          ...            ...   \n149983                                     0     0.000800         5000.0   \n149984                                     0    25.000000            NaN   \n149989                                     0     0.001408         9233.0   \n149995                                     0     0.225131         2100.0   \n149999                                     0     0.249908         8158.0   \n\n        NumberOfOpenCreditLinesAndLoans  NumberOfTimes90DaysLate  \\\n5                                     3                        0   \n14                                    6                        0   \n15                                    7                        0   \n16                                   10                        0   \n27                                   17                        0   \n...                                 ...                      ...   \n149983                                5                        0   \n149984                                5                        0   \n149989                                4                        0   \n149995                                4                        0   \n149999                                8                        0   \n\n        NumberRealEstateLoansOrLines  NumberOfTime60-89DaysPastDueNotWorse  \\\n5                                  1                                     0   \n14                                 1                                     0   \n15                                 1                                     0   \n16                                 2                                     0   \n27                                 0                                     0   \n...                              ...                                   ...   \n149983                             0                                     0   \n149984                             0                                     0   \n149989                             0                                     0   \n149995                             1                                     0   \n149999                             2                                     0   \n\n        NumberOfDependents  \n5                      1.0  \n14                     0.0  \n15                     2.0  \n16                     0.0  \n27                     1.0  \n...                    ...  \n149983                 0.0  \n149984                 0.0  \n149989                 3.0  \n149995                 0.0  \n149999                 0.0  \n\n[45060 rows x 11 columns]",
      "text/html": "<div>\n<style scoped>\n    .dataframe tbody tr th:only-of-type {\n        vertical-align: middle;\n    }\n\n    .dataframe tbody tr th {\n        vertical-align: top;\n    }\n\n    .dataframe thead th {\n        text-align: right;\n    }\n</style>\n<table border=\"1\" class=\"dataframe\">\n  <thead>\n    <tr style=\"text-align: right;\">\n      <th></th>\n      <th>label</th>\n      <th>RevolvingUtilizationOfUnsecuredLines</th>\n      <th>age</th>\n      <th>NumberOfTime30-59DaysPastDueNotWorse</th>\n      <th>DebtRatio</th>\n      <th>MonthlyIncome</th>\n      <th>NumberOfOpenCreditLinesAndLoans</th>\n      <th>NumberOfTimes90DaysLate</th>\n      <th>NumberRealEstateLoansOrLines</th>\n      <th>NumberOfTime60-89DaysPastDueNotWorse</th>\n      <th>NumberOfDependents</th>\n    </tr>\n  </thead>\n  <tbody>\n    <tr>\n      <th>5</th>\n      <td>1</td>\n      <td>0.213179</td>\n      <td>74</td>\n      <td>0</td>\n      <td>0.375607</td>\n      <td>3500.0</td>\n      <td>3</td>\n      <td>0</td>\n      <td>1</td>\n      <td>0</td>\n      <td>1.0</td>\n    </tr>\n    <tr>\n      <th>14</th>\n      <td>1</td>\n      <td>0.019657</td>\n      <td>76</td>\n      <td>0</td>\n      <td>477.000000</td>\n      <td>0.0</td>\n      <td>6</td>\n      <td>0</td>\n      <td>1</td>\n      <td>0</td>\n      <td>0.0</td>\n    </tr>\n    <tr>\n      <th>15</th>\n      <td>1</td>\n      <td>0.548458</td>\n      <td>64</td>\n      <td>0</td>\n      <td>0.209892</td>\n      <td>11362.0</td>\n      <td>7</td>\n      <td>0</td>\n      <td>1</td>\n      <td>0</td>\n      <td>2.0</td>\n    </tr>\n    <tr>\n      <th>16</th>\n      <td>1</td>\n      <td>0.061086</td>\n      <td>78</td>\n      <td>0</td>\n      <td>2058.000000</td>\n      <td>NaN</td>\n      <td>10</td>\n      <td>0</td>\n      <td>2</td>\n      <td>0</td>\n      <td>0.0</td>\n    </tr>\n    <tr>\n      <th>27</th>\n      <td>1</td>\n      <td>0.034421</td>\n      <td>69</td>\n      <td>0</td>\n      <td>0.042383</td>\n      <td>2500.0</td>\n      <td>17</td>\n      <td>0</td>\n      <td>0</td>\n      <td>0</td>\n      <td>1.0</td>\n    </tr>\n    <tr>\n      <th>...</th>\n      <td>...</td>\n      <td>...</td>\n      <td>...</td>\n      <td>...</td>\n      <td>...</td>\n      <td>...</td>\n      <td>...</td>\n      <td>...</td>\n      <td>...</td>\n      <td>...</td>\n      <td>...</td>\n    </tr>\n    <tr>\n      <th>149983</th>\n      <td>1</td>\n      <td>0.002485</td>\n      <td>82</td>\n      <td>0</td>\n      <td>0.000800</td>\n      <td>5000.0</td>\n      <td>5</td>\n      <td>0</td>\n      <td>0</td>\n      <td>0</td>\n      <td>0.0</td>\n    </tr>\n    <tr>\n      <th>149984</th>\n      <td>1</td>\n      <td>0.037548</td>\n      <td>84</td>\n      <td>0</td>\n      <td>25.000000</td>\n      <td>NaN</td>\n      <td>5</td>\n      <td>0</td>\n      <td>0</td>\n      <td>0</td>\n      <td>0.0</td>\n    </tr>\n    <tr>\n      <th>149989</th>\n      <td>1</td>\n      <td>0.013356</td>\n      <td>62</td>\n      <td>0</td>\n      <td>0.001408</td>\n      <td>9233.0</td>\n      <td>4</td>\n      <td>0</td>\n      <td>0</td>\n      <td>0</td>\n      <td>3.0</td>\n    </tr>\n    <tr>\n      <th>149995</th>\n      <td>1</td>\n      <td>0.040674</td>\n      <td>74</td>\n      <td>0</td>\n      <td>0.225131</td>\n      <td>2100.0</td>\n      <td>4</td>\n      <td>0</td>\n      <td>1</td>\n      <td>0</td>\n      <td>0.0</td>\n    </tr>\n    <tr>\n      <th>149999</th>\n      <td>1</td>\n      <td>0.850283</td>\n      <td>64</td>\n      <td>0</td>\n      <td>0.249908</td>\n      <td>8158.0</td>\n      <td>8</td>\n      <td>0</td>\n      <td>2</td>\n      <td>0</td>\n      <td>0.0</td>\n    </tr>\n  </tbody>\n</table>\n<p>45060 rows × 11 columns</p>\n</div>"
     },
     "execution_count": 6,
     "metadata": {},
     "output_type": "execute_result"
    }
   ],
   "source": [
    "train_df[train_df['age'] > 60]"
   ],
   "metadata": {
    "collapsed": false,
    "pycharm": {
     "name": "#%%\n"
    }
   }
  },
  {
   "cell_type": "code",
   "execution_count": 12,
   "outputs": [
    {
     "name": "stdout",
     "output_type": "stream",
     "text": [
      "dict_keys(['methods', 'columns'])\n",
      "dict_values(['min-max', ['A']])\n"
     ]
    }
   ],
   "source": [
    "args = {\"methods\": \"min-max\", \"columns\": [\"A\"]}\n",
    "def test_func(data, **kwargs):\n",
    "    keys = kwargs.keys()\n",
    "    value = kwargs.values()\n",
    "    print(keys)\n",
    "    print(value)\n",
    "# print(**args)\n",
    "test_func(\"hello\",**args)"
   ],
   "metadata": {
    "collapsed": false,
    "pycharm": {
     "name": "#%%\n"
    }
   }
  }
 ],
 "metadata": {
  "kernelspec": {
   "display_name": "Python 3",
   "language": "python",
   "name": "python3"
  },
  "language_info": {
   "codemirror_mode": {
    "name": "ipython",
    "version": 2
   },
   "file_extension": ".py",
   "mimetype": "text/x-python",
   "name": "python",
   "nbconvert_exporter": "python",
   "pygments_lexer": "ipython2",
   "version": "2.7.6"
  }
 },
 "nbformat": 4,
 "nbformat_minor": 0
}