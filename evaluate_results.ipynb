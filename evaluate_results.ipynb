{
 "cells": [
  {
   "cell_type": "code",
   "execution_count": 403,
   "metadata": {
    "collapsed": true
   },
   "outputs": [],
   "source": [
    "import pandas as pd\n",
    "import numpy as np\n",
    "import datetime\n",
    "import os\n",
    "\n",
    "from DataTool import DataLoader\n",
    "data_loader = DataLoader()\n",
    "analysis_folder_name = 'german_play'\n",
    "baseline_csv_name = 'german.csv'\n",
    "\n",
    "w_mean   = 1\n",
    "w_std    = 0.0\n",
    "\n",
    "w_recall = 0.0\n",
    "w_auc    = 1.0\n",
    "w_gmean  = 0.0\n",
    "\n",
    "best_result_pick_num = 5\n",
    "pd.set_option('display.float_format',lambda x : '%.5f' % x)"
   ]
  },
  {
   "cell_type": "code",
   "execution_count": 404,
   "outputs": [],
   "source": [
    "baseline = data_loader.load_csv_to_pandas(f'./result/baseline/{baseline_csv_name}')\n",
    "results  = data_loader.load_csv_to_pandas(f'./result/{analysis_folder_name}/result.csv')"
   ],
   "metadata": {
    "collapsed": false,
    "pycharm": {
     "name": "#%%\n"
    }
   }
  },
  {
   "cell_type": "code",
   "execution_count": 405,
   "outputs": [
    {
     "data": {
      "text/plain": "                      resampler  recall_mean  recall_std  auc_mean  auc_std  \\\n0                        adasyn      0.59512     0.13270   0.66614  0.03937   \n1                   basic_smote      0.59146     0.12729   0.65720  0.03470   \n2                bordered_smote      0.58049     0.14096   0.65492  0.02591   \n3   instance_hardness_threshold      0.83780     0.03452   0.67739  0.02055   \n4                        MWMOTE      0.58293     0.14834   0.65821  0.03275   \n5                     near_miss      0.65122     0.05520   0.62263  0.01923   \n6                 no_resampling      0.47805     0.17254   0.63306  0.02548   \n7           one_sided_selection      0.52683     0.15110   0.65241  0.02914   \n8          random_over_sampling      0.59756     0.14880   0.65062  0.03594   \n9         random_under_sampling      0.72073     0.08099   0.67894  0.03495   \n10                  tomek_links      0.51707     0.15406   0.64546  0.02504   \n\n    gmean_mean  gmean_std  \n0      0.64547    0.06375  \n1      0.63758    0.05702  \n2      0.63207    0.05256  \n3      0.65797    0.01869  \n4      0.63509    0.05748  \n5      0.62048    0.01924  \n6      0.58872    0.05129  \n7      0.61958    0.05062  \n8      0.62967    0.06412  \n9      0.66720    0.06858  \n10     0.61165    0.04739  ",
      "text/html": "<div>\n<style scoped>\n    .dataframe tbody tr th:only-of-type {\n        vertical-align: middle;\n    }\n\n    .dataframe tbody tr th {\n        vertical-align: top;\n    }\n\n    .dataframe thead th {\n        text-align: right;\n    }\n</style>\n<table border=\"1\" class=\"dataframe\">\n  <thead>\n    <tr style=\"text-align: right;\">\n      <th></th>\n      <th>resampler</th>\n      <th>recall_mean</th>\n      <th>recall_std</th>\n      <th>auc_mean</th>\n      <th>auc_std</th>\n      <th>gmean_mean</th>\n      <th>gmean_std</th>\n    </tr>\n  </thead>\n  <tbody>\n    <tr>\n      <th>0</th>\n      <td>adasyn</td>\n      <td>0.59512</td>\n      <td>0.13270</td>\n      <td>0.66614</td>\n      <td>0.03937</td>\n      <td>0.64547</td>\n      <td>0.06375</td>\n    </tr>\n    <tr>\n      <th>1</th>\n      <td>basic_smote</td>\n      <td>0.59146</td>\n      <td>0.12729</td>\n      <td>0.65720</td>\n      <td>0.03470</td>\n      <td>0.63758</td>\n      <td>0.05702</td>\n    </tr>\n    <tr>\n      <th>2</th>\n      <td>bordered_smote</td>\n      <td>0.58049</td>\n      <td>0.14096</td>\n      <td>0.65492</td>\n      <td>0.02591</td>\n      <td>0.63207</td>\n      <td>0.05256</td>\n    </tr>\n    <tr>\n      <th>3</th>\n      <td>instance_hardness_threshold</td>\n      <td>0.83780</td>\n      <td>0.03452</td>\n      <td>0.67739</td>\n      <td>0.02055</td>\n      <td>0.65797</td>\n      <td>0.01869</td>\n    </tr>\n    <tr>\n      <th>4</th>\n      <td>MWMOTE</td>\n      <td>0.58293</td>\n      <td>0.14834</td>\n      <td>0.65821</td>\n      <td>0.03275</td>\n      <td>0.63509</td>\n      <td>0.05748</td>\n    </tr>\n    <tr>\n      <th>5</th>\n      <td>near_miss</td>\n      <td>0.65122</td>\n      <td>0.05520</td>\n      <td>0.62263</td>\n      <td>0.01923</td>\n      <td>0.62048</td>\n      <td>0.01924</td>\n    </tr>\n    <tr>\n      <th>6</th>\n      <td>no_resampling</td>\n      <td>0.47805</td>\n      <td>0.17254</td>\n      <td>0.63306</td>\n      <td>0.02548</td>\n      <td>0.58872</td>\n      <td>0.05129</td>\n    </tr>\n    <tr>\n      <th>7</th>\n      <td>one_sided_selection</td>\n      <td>0.52683</td>\n      <td>0.15110</td>\n      <td>0.65241</td>\n      <td>0.02914</td>\n      <td>0.61958</td>\n      <td>0.05062</td>\n    </tr>\n    <tr>\n      <th>8</th>\n      <td>random_over_sampling</td>\n      <td>0.59756</td>\n      <td>0.14880</td>\n      <td>0.65062</td>\n      <td>0.03594</td>\n      <td>0.62967</td>\n      <td>0.06412</td>\n    </tr>\n    <tr>\n      <th>9</th>\n      <td>random_under_sampling</td>\n      <td>0.72073</td>\n      <td>0.08099</td>\n      <td>0.67894</td>\n      <td>0.03495</td>\n      <td>0.66720</td>\n      <td>0.06858</td>\n    </tr>\n    <tr>\n      <th>10</th>\n      <td>tomek_links</td>\n      <td>0.51707</td>\n      <td>0.15406</td>\n      <td>0.64546</td>\n      <td>0.02504</td>\n      <td>0.61165</td>\n      <td>0.04739</td>\n    </tr>\n  </tbody>\n</table>\n</div>"
     },
     "execution_count": 405,
     "metadata": {},
     "output_type": "execute_result"
    }
   ],
   "source": [
    "baseline"
   ],
   "metadata": {
    "collapsed": false,
    "pycharm": {
     "name": "#%%\n"
    }
   }
  },
  {
   "cell_type": "code",
   "execution_count": 406,
   "outputs": [
    {
     "name": "stdout",
     "output_type": "stream",
     "text": [
      "(180, 17)\n"
     ]
    }
   ],
   "source": [
    "print(results.shape)\n",
    "# drop columns\n",
    "drop_columns = ['resample_time', 'train_time', 'support', 'shuffle', 'original_maj_min', 'train_args']\n",
    "results = results.drop(drop_columns, axis=1)\n",
    "# results.head(5)"
   ],
   "metadata": {
    "collapsed": false,
    "pycharm": {
     "name": "#%%\n"
    }
   }
  },
  {
   "cell_type": "code",
   "execution_count": 407,
   "outputs": [],
   "source": [
    "#! results先根据id排序\n",
    "sorted_results = results.sort_values(by='id')\n",
    "# sorted_results.head(15)"
   ],
   "metadata": {
    "collapsed": false,
    "pycharm": {
     "name": "#%%\n"
    }
   }
  },
  {
   "cell_type": "code",
   "execution_count": 408,
   "outputs": [],
   "source": [
    "# group by args\n",
    "grouped_results = sorted_results.groupby(['resample_args']) \\\n",
    "                                .agg(recall_mean=('recall', 'mean'),\n",
    "                                     recall_std=('recall', 'std'),\n",
    "                                     auc_mean=('auc', 'mean'),\n",
    "                                     auc_std=('auc', 'std'),\n",
    "                                     gmean_mean=('gmean', 'mean'),\n",
    "                                     gmean_std=('gmean', 'std'))\n",
    "  \n",
    "# grouped_results\n"
   ],
   "metadata": {
    "collapsed": false,
    "pycharm": {
     "name": "#%%\n"
    }
   }
  },
  {
   "cell_type": "code",
   "execution_count": 409,
   "outputs": [
    {
     "data": {
      "text/plain": "                                            recall_mean  recall_std  auc_mean  \\\nresample_args                                                                   \n{'a_ros': 1.5, 'a_rus': 1.5, 'i_ros': 0.1}      0.69634     0.09152   0.68349   \n{'a_ros': 0.5, 'a_rus': 1, 'i_ros': 0.2}        0.67805     0.08646   0.67251   \n{'a_ros': 1.5, 'a_rus': 0.5, 'i_ros': 0.2}      0.67805     0.08665   0.67228   \n{'a_ros': 1, 'a_rus': 1.5, 'i_ros': 0.1}        0.65244     0.07610   0.67209   \n{'a_ros': 0.5, 'a_rus': 0.5, 'i_ros': 0.2}      0.66707     0.10491   0.66978   \n\n                                            auc_std  gmean_mean  gmean_std  \\\nresample_args                                                                \n{'a_ros': 1.5, 'a_rus': 1.5, 'i_ros': 0.1}  0.04267     0.67436    0.06340   \n{'a_ros': 0.5, 'a_rus': 1, 'i_ros': 0.2}    0.03909     0.66054    0.07209   \n{'a_ros': 1.5, 'a_rus': 0.5, 'i_ros': 0.2}  0.03276     0.66438    0.05065   \n{'a_ros': 1, 'a_rus': 1.5, 'i_ros': 0.1}    0.03892     0.67053    0.04140   \n{'a_ros': 0.5, 'a_rus': 0.5, 'i_ros': 0.2}  0.04383     0.65565    0.07642   \n\n                                            recall_mean_norm  recall_std_norm  \\\nresample_args                                                                   \n{'a_ros': 1.5, 'a_rus': 1.5, 'i_ros': 0.1}           1.00000          0.59619   \n{'a_ros': 0.5, 'a_rus': 1, 'i_ros': 0.2}             0.58333          0.72871   \n{'a_ros': 1.5, 'a_rus': 0.5, 'i_ros': 0.2}           0.58333          0.72371   \n{'a_ros': 1, 'a_rus': 1.5, 'i_ros': 0.1}             0.00000          1.00000   \n{'a_ros': 0.5, 'a_rus': 0.5, 'i_ros': 0.2}           0.33333          0.24543   \n\n                                            auc_mean_norm  auc_std_norm  \\\nresample_args                                                             \n{'a_ros': 1.5, 'a_rus': 1.5, 'i_ros': 0.1}        1.00000       0.25529   \n{'a_ros': 0.5, 'a_rus': 1, 'i_ros': 0.2}          0.65973       0.39359   \n{'a_ros': 1.5, 'a_rus': 0.5, 'i_ros': 0.2}        0.65263       0.63814   \n{'a_ros': 1, 'a_rus': 1.5, 'i_ros': 0.1}          0.64673       0.40028   \n{'a_ros': 0.5, 'a_rus': 0.5, 'i_ros': 0.2}        0.57497       0.21052   \n\n                                            gmean_mean_norm  gmean_std_norm  \\\nresample_args                                                                 \n{'a_ros': 1.5, 'a_rus': 1.5, 'i_ros': 0.1}          1.00000         0.37173   \n{'a_ros': 0.5, 'a_rus': 1, 'i_ros': 0.2}            0.59334         0.12368   \n{'a_ros': 1.5, 'a_rus': 0.5, 'i_ros': 0.2}          0.70623         0.73598   \n{'a_ros': 1, 'a_rus': 1.5, 'i_ros': 0.1}            0.88726         1.00000   \n{'a_ros': 0.5, 'a_rus': 0.5, 'i_ros': 0.2}          0.44931        -0.00000   \n\n                                             score  \nresample_args                                       \n{'a_ros': 1.5, 'a_rus': 1.5, 'i_ros': 0.1} 1.00000  \n{'a_ros': 0.5, 'a_rus': 1, 'i_ros': 0.2}   0.65973  \n{'a_ros': 1.5, 'a_rus': 0.5, 'i_ros': 0.2} 0.65263  \n{'a_ros': 1, 'a_rus': 1.5, 'i_ros': 0.1}   0.64673  \n{'a_ros': 0.5, 'a_rus': 0.5, 'i_ros': 0.2} 0.57497  ",
      "text/html": "<div>\n<style scoped>\n    .dataframe tbody tr th:only-of-type {\n        vertical-align: middle;\n    }\n\n    .dataframe tbody tr th {\n        vertical-align: top;\n    }\n\n    .dataframe thead th {\n        text-align: right;\n    }\n</style>\n<table border=\"1\" class=\"dataframe\">\n  <thead>\n    <tr style=\"text-align: right;\">\n      <th></th>\n      <th>recall_mean</th>\n      <th>recall_std</th>\n      <th>auc_mean</th>\n      <th>auc_std</th>\n      <th>gmean_mean</th>\n      <th>gmean_std</th>\n      <th>recall_mean_norm</th>\n      <th>recall_std_norm</th>\n      <th>auc_mean_norm</th>\n      <th>auc_std_norm</th>\n      <th>gmean_mean_norm</th>\n      <th>gmean_std_norm</th>\n      <th>score</th>\n    </tr>\n    <tr>\n      <th>resample_args</th>\n      <th></th>\n      <th></th>\n      <th></th>\n      <th></th>\n      <th></th>\n      <th></th>\n      <th></th>\n      <th></th>\n      <th></th>\n      <th></th>\n      <th></th>\n      <th></th>\n      <th></th>\n    </tr>\n  </thead>\n  <tbody>\n    <tr>\n      <th>{'a_ros': 1.5, 'a_rus': 1.5, 'i_ros': 0.1}</th>\n      <td>0.69634</td>\n      <td>0.09152</td>\n      <td>0.68349</td>\n      <td>0.04267</td>\n      <td>0.67436</td>\n      <td>0.06340</td>\n      <td>1.00000</td>\n      <td>0.59619</td>\n      <td>1.00000</td>\n      <td>0.25529</td>\n      <td>1.00000</td>\n      <td>0.37173</td>\n      <td>1.00000</td>\n    </tr>\n    <tr>\n      <th>{'a_ros': 0.5, 'a_rus': 1, 'i_ros': 0.2}</th>\n      <td>0.67805</td>\n      <td>0.08646</td>\n      <td>0.67251</td>\n      <td>0.03909</td>\n      <td>0.66054</td>\n      <td>0.07209</td>\n      <td>0.58333</td>\n      <td>0.72871</td>\n      <td>0.65973</td>\n      <td>0.39359</td>\n      <td>0.59334</td>\n      <td>0.12368</td>\n      <td>0.65973</td>\n    </tr>\n    <tr>\n      <th>{'a_ros': 1.5, 'a_rus': 0.5, 'i_ros': 0.2}</th>\n      <td>0.67805</td>\n      <td>0.08665</td>\n      <td>0.67228</td>\n      <td>0.03276</td>\n      <td>0.66438</td>\n      <td>0.05065</td>\n      <td>0.58333</td>\n      <td>0.72371</td>\n      <td>0.65263</td>\n      <td>0.63814</td>\n      <td>0.70623</td>\n      <td>0.73598</td>\n      <td>0.65263</td>\n    </tr>\n    <tr>\n      <th>{'a_ros': 1, 'a_rus': 1.5, 'i_ros': 0.1}</th>\n      <td>0.65244</td>\n      <td>0.07610</td>\n      <td>0.67209</td>\n      <td>0.03892</td>\n      <td>0.67053</td>\n      <td>0.04140</td>\n      <td>0.00000</td>\n      <td>1.00000</td>\n      <td>0.64673</td>\n      <td>0.40028</td>\n      <td>0.88726</td>\n      <td>1.00000</td>\n      <td>0.64673</td>\n    </tr>\n    <tr>\n      <th>{'a_ros': 0.5, 'a_rus': 0.5, 'i_ros': 0.2}</th>\n      <td>0.66707</td>\n      <td>0.10491</td>\n      <td>0.66978</td>\n      <td>0.04383</td>\n      <td>0.65565</td>\n      <td>0.07642</td>\n      <td>0.33333</td>\n      <td>0.24543</td>\n      <td>0.57497</td>\n      <td>0.21052</td>\n      <td>0.44931</td>\n      <td>-0.00000</td>\n      <td>0.57497</td>\n    </tr>\n  </tbody>\n</table>\n</div>"
     },
     "execution_count": 409,
     "metadata": {},
     "output_type": "execute_result"
    }
   ],
   "source": [
    "#! add rank info\n",
    "# grouped_results['recall_mean_rank']  =  grouped_results['recall_mean'].rank(method='dense', ascending=False)\n",
    "# grouped_results['recall_std_rank']   =  grouped_results['recall_std'].rank(method='dense', ascending=False)\n",
    "# grouped_results['auc_mean_rank']     =  grouped_results['auc_mean'].rank(method='dense', ascending=False)\n",
    "# grouped_results['auc_std_rank']      =  grouped_results['auc_std'].rank(method='dense', ascending=False)\n",
    "# grouped_results['gmean_mean_rank']   =  grouped_results['gmean_mean'].rank(method='dense', ascending=False)\n",
    "# grouped_results['gmean_std_rank']    =  grouped_results['gmean_std'].rank(method='dense', ascending=False)\n",
    "grouped_results['recall_mean_norm']  =  (grouped_results['recall_mean'] - grouped_results['recall_mean'].min()) / (grouped_results['recall_mean'].max() - grouped_results['recall_mean'].min())\n",
    "grouped_results['recall_std_norm']   =  (grouped_results['recall_std']  - grouped_results['recall_std'].max())  / -(grouped_results['recall_std'].max()  - grouped_results['recall_std'].min())\n",
    "grouped_results['auc_mean_norm']     =  (grouped_results['auc_mean']    - grouped_results['auc_mean'].min())    / (grouped_results['auc_mean'].max()    - grouped_results['auc_mean'].min())\n",
    "grouped_results['auc_std_norm']      =  (grouped_results['auc_std']     - grouped_results['auc_std'].max())     / -(grouped_results['auc_std'].max()     - grouped_results['auc_std'].min())\n",
    "grouped_results['gmean_mean_norm']   =  (grouped_results['gmean_mean']  - grouped_results['gmean_mean'].min())  / (grouped_results['gmean_mean'].max()  - grouped_results['gmean_mean'].min())\n",
    "grouped_results['gmean_std_norm']    =  (grouped_results['gmean_std']   - grouped_results['gmean_std'].max())   / -(grouped_results['gmean_std'].max()   - grouped_results['gmean_std'].min())\n",
    "grouped_results['score']             =  w_recall * ( w_mean * grouped_results['recall_mean_norm'] + w_std * grouped_results['recall_std_norm']) + \\\n",
    "                                        w_auc    * ( w_mean * grouped_results['auc_mean_norm']    + w_std * grouped_results['auc_std_norm'   ]) + \\\n",
    "                                        w_gmean  * ( w_mean * grouped_results['gmean_mean_norm']  + w_std * grouped_results['gmean_std_norm' ])\n",
    "grouped_results = grouped_results.sort_values(by='score', ascending=False)\n",
    "grouped_results.head(best_result_pick_num)"
   ],
   "metadata": {
    "collapsed": false,
    "pycharm": {
     "name": "#%%\n"
    }
   }
  },
  {
   "cell_type": "code",
   "execution_count": 410,
   "outputs": [
    {
     "data": {
      "text/plain": "                                            recall_mean  recall_std  auc_mean  \\\nresample_args                                                                   \n{'a_ros': 1.5, 'a_rus': 1.5, 'i_ros': 0.1}      0.69634     0.09152   0.68349   \n{'a_ros': 0.5, 'a_rus': 1, 'i_ros': 0.2}        0.67805     0.08646   0.67251   \n{'a_ros': 1.5, 'a_rus': 0.5, 'i_ros': 0.2}      0.67805     0.08665   0.67228   \n{'a_ros': 1, 'a_rus': 1.5, 'i_ros': 0.1}        0.65244     0.07610   0.67209   \n{'a_ros': 0.5, 'a_rus': 0.5, 'i_ros': 0.2}      0.66707     0.10491   0.66978   \n\n                                            auc_std  gmean_mean  gmean_std  \\\nresample_args                                                                \n{'a_ros': 1.5, 'a_rus': 1.5, 'i_ros': 0.1}  0.04267     0.67436    0.06340   \n{'a_ros': 0.5, 'a_rus': 1, 'i_ros': 0.2}    0.03909     0.66054    0.07209   \n{'a_ros': 1.5, 'a_rus': 0.5, 'i_ros': 0.2}  0.03276     0.66438    0.05065   \n{'a_ros': 1, 'a_rus': 1.5, 'i_ros': 0.1}    0.03892     0.67053    0.04140   \n{'a_ros': 0.5, 'a_rus': 0.5, 'i_ros': 0.2}  0.04383     0.65565    0.07642   \n\n                                                                             resampler  \nresample_args                                                                           \n{'a_ros': 1.5, 'a_rus': 1.5, 'i_ros': 0.1}  {'a_ros': 1.5, 'a_rus': 1.5, 'i_ros': 0.1}  \n{'a_ros': 0.5, 'a_rus': 1, 'i_ros': 0.2}      {'a_ros': 0.5, 'a_rus': 1, 'i_ros': 0.2}  \n{'a_ros': 1.5, 'a_rus': 0.5, 'i_ros': 0.2}  {'a_ros': 1.5, 'a_rus': 0.5, 'i_ros': 0.2}  \n{'a_ros': 1, 'a_rus': 1.5, 'i_ros': 0.1}      {'a_ros': 1, 'a_rus': 1.5, 'i_ros': 0.1}  \n{'a_ros': 0.5, 'a_rus': 0.5, 'i_ros': 0.2}  {'a_ros': 0.5, 'a_rus': 0.5, 'i_ros': 0.2}  ",
      "text/html": "<div>\n<style scoped>\n    .dataframe tbody tr th:only-of-type {\n        vertical-align: middle;\n    }\n\n    .dataframe tbody tr th {\n        vertical-align: top;\n    }\n\n    .dataframe thead th {\n        text-align: right;\n    }\n</style>\n<table border=\"1\" class=\"dataframe\">\n  <thead>\n    <tr style=\"text-align: right;\">\n      <th></th>\n      <th>recall_mean</th>\n      <th>recall_std</th>\n      <th>auc_mean</th>\n      <th>auc_std</th>\n      <th>gmean_mean</th>\n      <th>gmean_std</th>\n      <th>resampler</th>\n    </tr>\n    <tr>\n      <th>resample_args</th>\n      <th></th>\n      <th></th>\n      <th></th>\n      <th></th>\n      <th></th>\n      <th></th>\n      <th></th>\n    </tr>\n  </thead>\n  <tbody>\n    <tr>\n      <th>{'a_ros': 1.5, 'a_rus': 1.5, 'i_ros': 0.1}</th>\n      <td>0.69634</td>\n      <td>0.09152</td>\n      <td>0.68349</td>\n      <td>0.04267</td>\n      <td>0.67436</td>\n      <td>0.06340</td>\n      <td>{'a_ros': 1.5, 'a_rus': 1.5, 'i_ros': 0.1}</td>\n    </tr>\n    <tr>\n      <th>{'a_ros': 0.5, 'a_rus': 1, 'i_ros': 0.2}</th>\n      <td>0.67805</td>\n      <td>0.08646</td>\n      <td>0.67251</td>\n      <td>0.03909</td>\n      <td>0.66054</td>\n      <td>0.07209</td>\n      <td>{'a_ros': 0.5, 'a_rus': 1, 'i_ros': 0.2}</td>\n    </tr>\n    <tr>\n      <th>{'a_ros': 1.5, 'a_rus': 0.5, 'i_ros': 0.2}</th>\n      <td>0.67805</td>\n      <td>0.08665</td>\n      <td>0.67228</td>\n      <td>0.03276</td>\n      <td>0.66438</td>\n      <td>0.05065</td>\n      <td>{'a_ros': 1.5, 'a_rus': 0.5, 'i_ros': 0.2}</td>\n    </tr>\n    <tr>\n      <th>{'a_ros': 1, 'a_rus': 1.5, 'i_ros': 0.1}</th>\n      <td>0.65244</td>\n      <td>0.07610</td>\n      <td>0.67209</td>\n      <td>0.03892</td>\n      <td>0.67053</td>\n      <td>0.04140</td>\n      <td>{'a_ros': 1, 'a_rus': 1.5, 'i_ros': 0.1}</td>\n    </tr>\n    <tr>\n      <th>{'a_ros': 0.5, 'a_rus': 0.5, 'i_ros': 0.2}</th>\n      <td>0.66707</td>\n      <td>0.10491</td>\n      <td>0.66978</td>\n      <td>0.04383</td>\n      <td>0.65565</td>\n      <td>0.07642</td>\n      <td>{'a_ros': 0.5, 'a_rus': 0.5, 'i_ros': 0.2}</td>\n    </tr>\n  </tbody>\n</table>\n</div>"
     },
     "execution_count": 410,
     "metadata": {},
     "output_type": "execute_result"
    }
   ],
   "source": [
    "# slice_col  = ['recall_mean', 'recall_std', 'auc_mean', 'auc_std', 'gmean_mean', 'gmean_std']\n",
    "best_result = grouped_results.iloc[:best_result_pick_num, 0:6]\n",
    "best_result['resampler'] = grouped_results.index[:best_result_pick_num]\n",
    "best_result"
   ],
   "metadata": {
    "collapsed": false,
    "pycharm": {
     "name": "#%%\n"
    }
   }
  },
  {
   "cell_type": "code",
   "execution_count": 411,
   "outputs": [],
   "source": [
    "baseline = pd.concat([baseline, best_result], axis=0)\n",
    "# baseline"
   ],
   "metadata": {
    "collapsed": false,
    "pycharm": {
     "name": "#%%\n"
    }
   }
  },
  {
   "cell_type": "code",
   "execution_count": 412,
   "outputs": [
    {
     "data": {
      "text/plain": "                                                                             resampler  \\\n{'a_ros': 1.5, 'a_rus': 1.5, 'i_ros': 0.1}  {'a_ros': 1.5, 'a_rus': 1.5, 'i_ros': 0.1}   \n9                                                                random_under_sampling   \n3                                                          instance_hardness_threshold   \n{'a_ros': 0.5, 'a_rus': 1, 'i_ros': 0.2}      {'a_ros': 0.5, 'a_rus': 1, 'i_ros': 0.2}   \n{'a_ros': 1.5, 'a_rus': 0.5, 'i_ros': 0.2}  {'a_ros': 1.5, 'a_rus': 0.5, 'i_ros': 0.2}   \n{'a_ros': 1, 'a_rus': 1.5, 'i_ros': 0.1}      {'a_ros': 1, 'a_rus': 1.5, 'i_ros': 0.1}   \n{'a_ros': 0.5, 'a_rus': 0.5, 'i_ros': 0.2}  {'a_ros': 0.5, 'a_rus': 0.5, 'i_ros': 0.2}   \n0                                                                               adasyn   \n4                                                                               MWMOTE   \n1                                                                          basic_smote   \n2                                                                       bordered_smote   \n7                                                                  one_sided_selection   \n8                                                                 random_over_sampling   \n10                                                                         tomek_links   \n6                                                                        no_resampling   \n5                                                                            near_miss   \n\n                                            recall_mean  recall_std  auc_mean  \\\n{'a_ros': 1.5, 'a_rus': 1.5, 'i_ros': 0.1}      0.69634     0.09152   0.68349   \n9                                               0.72073     0.08099   0.67894   \n3                                               0.83780     0.03452   0.67739   \n{'a_ros': 0.5, 'a_rus': 1, 'i_ros': 0.2}        0.67805     0.08646   0.67251   \n{'a_ros': 1.5, 'a_rus': 0.5, 'i_ros': 0.2}      0.67805     0.08665   0.67228   \n{'a_ros': 1, 'a_rus': 1.5, 'i_ros': 0.1}        0.65244     0.07610   0.67209   \n{'a_ros': 0.5, 'a_rus': 0.5, 'i_ros': 0.2}      0.66707     0.10491   0.66978   \n0                                               0.59512     0.13270   0.66614   \n4                                               0.58293     0.14834   0.65821   \n1                                               0.59146     0.12729   0.65720   \n2                                               0.58049     0.14096   0.65492   \n7                                               0.52683     0.15110   0.65241   \n8                                               0.59756     0.14880   0.65062   \n10                                              0.51707     0.15406   0.64546   \n6                                               0.47805     0.17254   0.63306   \n5                                               0.65122     0.05520   0.62263   \n\n                                            auc_std  gmean_mean  gmean_std  \\\n{'a_ros': 1.5, 'a_rus': 1.5, 'i_ros': 0.1}  0.04267     0.67436    0.06340   \n9                                           0.03495     0.66720    0.06858   \n3                                           0.02055     0.65797    0.01869   \n{'a_ros': 0.5, 'a_rus': 1, 'i_ros': 0.2}    0.03909     0.66054    0.07209   \n{'a_ros': 1.5, 'a_rus': 0.5, 'i_ros': 0.2}  0.03276     0.66438    0.05065   \n{'a_ros': 1, 'a_rus': 1.5, 'i_ros': 0.1}    0.03892     0.67053    0.04140   \n{'a_ros': 0.5, 'a_rus': 0.5, 'i_ros': 0.2}  0.04383     0.65565    0.07642   \n0                                           0.03937     0.64547    0.06375   \n4                                           0.03275     0.63509    0.05748   \n1                                           0.03470     0.63758    0.05702   \n2                                           0.02591     0.63207    0.05256   \n7                                           0.02914     0.61958    0.05062   \n8                                           0.03594     0.62967    0.06412   \n10                                          0.02504     0.61165    0.04739   \n6                                           0.02548     0.58872    0.05129   \n5                                           0.01923     0.62048    0.01924   \n\n                                            recall_mean_norm  recall_std_norm  \\\n{'a_ros': 1.5, 'a_rus': 1.5, 'i_ros': 0.1}           0.60678          0.58699   \n9                                                    0.67458          0.66333   \n3                                                    1.00000          1.00000   \n{'a_ros': 0.5, 'a_rus': 1, 'i_ros': 0.2}             0.55593          0.62365   \n{'a_ros': 1.5, 'a_rus': 0.5, 'i_ros': 0.2}           0.55593          0.62227   \n{'a_ros': 1, 'a_rus': 1.5, 'i_ros': 0.1}             0.48475          0.69870   \n{'a_ros': 0.5, 'a_rus': 0.5, 'i_ros': 0.2}           0.52542          0.48997   \n0                                                    0.32542          0.28868   \n4                                                    0.29153          0.17536   \n1                                                    0.31525          0.32786   \n2                                                    0.28475          0.22883   \n7                                                    0.13559          0.15537   \n8                                                    0.33220          0.17197   \n10                                                   0.10847          0.13387   \n6                                                    0.00000         -0.00000   \n5                                                    0.48136          0.85014   \n\n                                            auc_mean_norm  auc_std_norm  \\\n{'a_ros': 1.5, 'a_rus': 1.5, 'i_ros': 0.1}        1.00000       0.04710   \n9                                                 0.92528       0.36116   \n3                                                 0.89972       0.94643   \n{'a_ros': 0.5, 'a_rus': 1, 'i_ros': 0.2}          0.81958       0.19257   \n{'a_ros': 1.5, 'a_rus': 0.5, 'i_ros': 0.2}        0.81581       0.44981   \n{'a_ros': 1, 'a_rus': 1.5, 'i_ros': 0.1}          0.81268       0.19960   \n{'a_ros': 0.5, 'a_rus': 0.5, 'i_ros': 0.2}        0.77463      -0.00000   \n0                                                 0.71489       0.18123   \n4                                                 0.58456       0.45061   \n1                                                 0.56801       0.37097   \n2                                                 0.53061       0.72855   \n7                                                 0.48925       0.59735   \n8                                                 0.45983       0.32080   \n10                                                0.37518       0.76370   \n6                                                 0.17142       0.74611   \n5                                                 0.00000       1.00000   \n\n                                            gmean_mean_norm  gmean_std_norm  \\\n{'a_ros': 1.5, 'a_rus': 1.5, 'i_ros': 0.1}          1.00000         0.22550   \n9                                                   0.91636         0.13586   \n3                                                   0.80857         1.00000   \n{'a_ros': 0.5, 'a_rus': 1, 'i_ros': 0.2}            0.83865         0.07503   \n{'a_ros': 1.5, 'a_rus': 0.5, 'i_ros': 0.2}          0.88344         0.44647   \n{'a_ros': 1, 'a_rus': 1.5, 'i_ros': 0.1}            0.95527         0.60663   \n{'a_ros': 0.5, 'a_rus': 0.5, 'i_ros': 0.2}          0.78150        -0.00000   \n0                                                   0.66261         0.21948   \n4                                                   0.54142         0.32805   \n1                                                   0.57055         0.33617   \n2                                                   0.50622         0.41333   \n7                                                   0.36037         0.44692   \n8                                                   0.47816         0.21314   \n10                                                  0.26779         0.50291   \n6                                                   0.00000         0.43530   \n5                                                   0.37089         0.99048   \n\n                                             score  \n{'a_ros': 1.5, 'a_rus': 1.5, 'i_ros': 0.1} 1.00000  \n9                                          0.92528  \n3                                          0.89972  \n{'a_ros': 0.5, 'a_rus': 1, 'i_ros': 0.2}   0.81958  \n{'a_ros': 1.5, 'a_rus': 0.5, 'i_ros': 0.2} 0.81581  \n{'a_ros': 1, 'a_rus': 1.5, 'i_ros': 0.1}   0.81268  \n{'a_ros': 0.5, 'a_rus': 0.5, 'i_ros': 0.2} 0.77463  \n0                                          0.71489  \n4                                          0.58456  \n1                                          0.56801  \n2                                          0.53061  \n7                                          0.48925  \n8                                          0.45983  \n10                                         0.37518  \n6                                          0.17142  \n5                                          0.00000  ",
      "text/html": "<div>\n<style scoped>\n    .dataframe tbody tr th:only-of-type {\n        vertical-align: middle;\n    }\n\n    .dataframe tbody tr th {\n        vertical-align: top;\n    }\n\n    .dataframe thead th {\n        text-align: right;\n    }\n</style>\n<table border=\"1\" class=\"dataframe\">\n  <thead>\n    <tr style=\"text-align: right;\">\n      <th></th>\n      <th>resampler</th>\n      <th>recall_mean</th>\n      <th>recall_std</th>\n      <th>auc_mean</th>\n      <th>auc_std</th>\n      <th>gmean_mean</th>\n      <th>gmean_std</th>\n      <th>recall_mean_norm</th>\n      <th>recall_std_norm</th>\n      <th>auc_mean_norm</th>\n      <th>auc_std_norm</th>\n      <th>gmean_mean_norm</th>\n      <th>gmean_std_norm</th>\n      <th>score</th>\n    </tr>\n  </thead>\n  <tbody>\n    <tr>\n      <th>{'a_ros': 1.5, 'a_rus': 1.5, 'i_ros': 0.1}</th>\n      <td>{'a_ros': 1.5, 'a_rus': 1.5, 'i_ros': 0.1}</td>\n      <td>0.69634</td>\n      <td>0.09152</td>\n      <td>0.68349</td>\n      <td>0.04267</td>\n      <td>0.67436</td>\n      <td>0.06340</td>\n      <td>0.60678</td>\n      <td>0.58699</td>\n      <td>1.00000</td>\n      <td>0.04710</td>\n      <td>1.00000</td>\n      <td>0.22550</td>\n      <td>1.00000</td>\n    </tr>\n    <tr>\n      <th>9</th>\n      <td>random_under_sampling</td>\n      <td>0.72073</td>\n      <td>0.08099</td>\n      <td>0.67894</td>\n      <td>0.03495</td>\n      <td>0.66720</td>\n      <td>0.06858</td>\n      <td>0.67458</td>\n      <td>0.66333</td>\n      <td>0.92528</td>\n      <td>0.36116</td>\n      <td>0.91636</td>\n      <td>0.13586</td>\n      <td>0.92528</td>\n    </tr>\n    <tr>\n      <th>3</th>\n      <td>instance_hardness_threshold</td>\n      <td>0.83780</td>\n      <td>0.03452</td>\n      <td>0.67739</td>\n      <td>0.02055</td>\n      <td>0.65797</td>\n      <td>0.01869</td>\n      <td>1.00000</td>\n      <td>1.00000</td>\n      <td>0.89972</td>\n      <td>0.94643</td>\n      <td>0.80857</td>\n      <td>1.00000</td>\n      <td>0.89972</td>\n    </tr>\n    <tr>\n      <th>{'a_ros': 0.5, 'a_rus': 1, 'i_ros': 0.2}</th>\n      <td>{'a_ros': 0.5, 'a_rus': 1, 'i_ros': 0.2}</td>\n      <td>0.67805</td>\n      <td>0.08646</td>\n      <td>0.67251</td>\n      <td>0.03909</td>\n      <td>0.66054</td>\n      <td>0.07209</td>\n      <td>0.55593</td>\n      <td>0.62365</td>\n      <td>0.81958</td>\n      <td>0.19257</td>\n      <td>0.83865</td>\n      <td>0.07503</td>\n      <td>0.81958</td>\n    </tr>\n    <tr>\n      <th>{'a_ros': 1.5, 'a_rus': 0.5, 'i_ros': 0.2}</th>\n      <td>{'a_ros': 1.5, 'a_rus': 0.5, 'i_ros': 0.2}</td>\n      <td>0.67805</td>\n      <td>0.08665</td>\n      <td>0.67228</td>\n      <td>0.03276</td>\n      <td>0.66438</td>\n      <td>0.05065</td>\n      <td>0.55593</td>\n      <td>0.62227</td>\n      <td>0.81581</td>\n      <td>0.44981</td>\n      <td>0.88344</td>\n      <td>0.44647</td>\n      <td>0.81581</td>\n    </tr>\n    <tr>\n      <th>{'a_ros': 1, 'a_rus': 1.5, 'i_ros': 0.1}</th>\n      <td>{'a_ros': 1, 'a_rus': 1.5, 'i_ros': 0.1}</td>\n      <td>0.65244</td>\n      <td>0.07610</td>\n      <td>0.67209</td>\n      <td>0.03892</td>\n      <td>0.67053</td>\n      <td>0.04140</td>\n      <td>0.48475</td>\n      <td>0.69870</td>\n      <td>0.81268</td>\n      <td>0.19960</td>\n      <td>0.95527</td>\n      <td>0.60663</td>\n      <td>0.81268</td>\n    </tr>\n    <tr>\n      <th>{'a_ros': 0.5, 'a_rus': 0.5, 'i_ros': 0.2}</th>\n      <td>{'a_ros': 0.5, 'a_rus': 0.5, 'i_ros': 0.2}</td>\n      <td>0.66707</td>\n      <td>0.10491</td>\n      <td>0.66978</td>\n      <td>0.04383</td>\n      <td>0.65565</td>\n      <td>0.07642</td>\n      <td>0.52542</td>\n      <td>0.48997</td>\n      <td>0.77463</td>\n      <td>-0.00000</td>\n      <td>0.78150</td>\n      <td>-0.00000</td>\n      <td>0.77463</td>\n    </tr>\n    <tr>\n      <th>0</th>\n      <td>adasyn</td>\n      <td>0.59512</td>\n      <td>0.13270</td>\n      <td>0.66614</td>\n      <td>0.03937</td>\n      <td>0.64547</td>\n      <td>0.06375</td>\n      <td>0.32542</td>\n      <td>0.28868</td>\n      <td>0.71489</td>\n      <td>0.18123</td>\n      <td>0.66261</td>\n      <td>0.21948</td>\n      <td>0.71489</td>\n    </tr>\n    <tr>\n      <th>4</th>\n      <td>MWMOTE</td>\n      <td>0.58293</td>\n      <td>0.14834</td>\n      <td>0.65821</td>\n      <td>0.03275</td>\n      <td>0.63509</td>\n      <td>0.05748</td>\n      <td>0.29153</td>\n      <td>0.17536</td>\n      <td>0.58456</td>\n      <td>0.45061</td>\n      <td>0.54142</td>\n      <td>0.32805</td>\n      <td>0.58456</td>\n    </tr>\n    <tr>\n      <th>1</th>\n      <td>basic_smote</td>\n      <td>0.59146</td>\n      <td>0.12729</td>\n      <td>0.65720</td>\n      <td>0.03470</td>\n      <td>0.63758</td>\n      <td>0.05702</td>\n      <td>0.31525</td>\n      <td>0.32786</td>\n      <td>0.56801</td>\n      <td>0.37097</td>\n      <td>0.57055</td>\n      <td>0.33617</td>\n      <td>0.56801</td>\n    </tr>\n    <tr>\n      <th>2</th>\n      <td>bordered_smote</td>\n      <td>0.58049</td>\n      <td>0.14096</td>\n      <td>0.65492</td>\n      <td>0.02591</td>\n      <td>0.63207</td>\n      <td>0.05256</td>\n      <td>0.28475</td>\n      <td>0.22883</td>\n      <td>0.53061</td>\n      <td>0.72855</td>\n      <td>0.50622</td>\n      <td>0.41333</td>\n      <td>0.53061</td>\n    </tr>\n    <tr>\n      <th>7</th>\n      <td>one_sided_selection</td>\n      <td>0.52683</td>\n      <td>0.15110</td>\n      <td>0.65241</td>\n      <td>0.02914</td>\n      <td>0.61958</td>\n      <td>0.05062</td>\n      <td>0.13559</td>\n      <td>0.15537</td>\n      <td>0.48925</td>\n      <td>0.59735</td>\n      <td>0.36037</td>\n      <td>0.44692</td>\n      <td>0.48925</td>\n    </tr>\n    <tr>\n      <th>8</th>\n      <td>random_over_sampling</td>\n      <td>0.59756</td>\n      <td>0.14880</td>\n      <td>0.65062</td>\n      <td>0.03594</td>\n      <td>0.62967</td>\n      <td>0.06412</td>\n      <td>0.33220</td>\n      <td>0.17197</td>\n      <td>0.45983</td>\n      <td>0.32080</td>\n      <td>0.47816</td>\n      <td>0.21314</td>\n      <td>0.45983</td>\n    </tr>\n    <tr>\n      <th>10</th>\n      <td>tomek_links</td>\n      <td>0.51707</td>\n      <td>0.15406</td>\n      <td>0.64546</td>\n      <td>0.02504</td>\n      <td>0.61165</td>\n      <td>0.04739</td>\n      <td>0.10847</td>\n      <td>0.13387</td>\n      <td>0.37518</td>\n      <td>0.76370</td>\n      <td>0.26779</td>\n      <td>0.50291</td>\n      <td>0.37518</td>\n    </tr>\n    <tr>\n      <th>6</th>\n      <td>no_resampling</td>\n      <td>0.47805</td>\n      <td>0.17254</td>\n      <td>0.63306</td>\n      <td>0.02548</td>\n      <td>0.58872</td>\n      <td>0.05129</td>\n      <td>0.00000</td>\n      <td>-0.00000</td>\n      <td>0.17142</td>\n      <td>0.74611</td>\n      <td>0.00000</td>\n      <td>0.43530</td>\n      <td>0.17142</td>\n    </tr>\n    <tr>\n      <th>5</th>\n      <td>near_miss</td>\n      <td>0.65122</td>\n      <td>0.05520</td>\n      <td>0.62263</td>\n      <td>0.01923</td>\n      <td>0.62048</td>\n      <td>0.01924</td>\n      <td>0.48136</td>\n      <td>0.85014</td>\n      <td>0.00000</td>\n      <td>1.00000</td>\n      <td>0.37089</td>\n      <td>0.99048</td>\n      <td>0.00000</td>\n    </tr>\n  </tbody>\n</table>\n</div>"
     },
     "execution_count": 412,
     "metadata": {},
     "output_type": "execute_result"
    }
   ],
   "source": [
    "baseline['recall_mean_norm']  =  (baseline['recall_mean'] - baseline['recall_mean'].min()) / (baseline['recall_mean'].max() - baseline['recall_mean'].min())\n",
    "baseline['recall_std_norm']   =  (baseline['recall_std']  - baseline['recall_std'].max())  / -(baseline['recall_std'].max()  - baseline['recall_std'].min())\n",
    "baseline['auc_mean_norm']     =  (baseline['auc_mean']    - baseline['auc_mean'].min())    / (baseline['auc_mean'].max()    - baseline['auc_mean'].min())\n",
    "baseline['auc_std_norm']      =  (baseline['auc_std']     - baseline['auc_std'].max())     / -(baseline['auc_std'].max()     - baseline['auc_std'].min())\n",
    "baseline['gmean_mean_norm']   =  (baseline['gmean_mean']  - baseline['gmean_mean'].min())  / (baseline['gmean_mean'].max()  - baseline['gmean_mean'].min())\n",
    "baseline['gmean_std_norm']    =  (baseline['gmean_std']   - baseline['gmean_std'].max())   / -(baseline['gmean_std'].max()   - baseline['gmean_std'].min())\n",
    "baseline['score']             =  w_recall * ( w_mean * baseline['recall_mean_norm']  + w_std * baseline['recall_std_norm']) + \\\n",
    "                                 w_auc    * ( w_mean * baseline['auc_mean_norm']     + w_std * baseline['auc_std_norm'   ]) + \\\n",
    "                                 w_gmean  * ( w_mean * baseline['gmean_mean_norm']   + w_std * baseline['gmean_std_norm' ])\n",
    "baseline = baseline.sort_values(by='score', ascending=False)\n",
    "baseline"
   ],
   "metadata": {
    "collapsed": false,
    "pycharm": {
     "name": "#%%\n"
    }
   }
  },
  {
   "cell_type": "code",
   "execution_count": 412,
   "outputs": [],
   "source": [],
   "metadata": {
    "collapsed": false,
    "pycharm": {
     "name": "#%%\n"
    }
   }
  }
 ],
 "metadata": {
  "kernelspec": {
   "display_name": "Python 3",
   "language": "python",
   "name": "python3"
  },
  "language_info": {
   "codemirror_mode": {
    "name": "ipython",
    "version": 2
   },
   "file_extension": ".py",
   "mimetype": "text/x-python",
   "name": "python",
   "nbconvert_exporter": "python",
   "pygments_lexer": "ipython2",
   "version": "2.7.6"
  }
 },
 "nbformat": 4,
 "nbformat_minor": 0
}