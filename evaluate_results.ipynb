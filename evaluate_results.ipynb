{
 "cells": [
  {
   "cell_type": "code",
   "execution_count": 616,
   "metadata": {
    "collapsed": true
   },
   "outputs": [],
   "source": [
    "import pandas as pd\n",
    "import numpy as np\n",
    "import datetime\n",
    "import os\n",
    "\n",
    "from DataTool import DataLoader\n",
    "data_loader = DataLoader()\n",
    "analysis_folder_name = 'german_test_1'\n",
    "baseline_csv_name = 'german-0406.csv'\n",
    "\n",
    "w_mean   = 0.7\n",
    "w_std    = 0.3\n",
    "\n",
    "w_recall = 0.3\n",
    "w_auc    = 0.7\n",
    "w_gmean  = 0\n",
    "\n",
    "best_result_pick_num = 3\n",
    "pd.set_option('display.float_format',lambda x : '%.5f' % x)"
   ]
  },
  {
   "cell_type": "code",
   "execution_count": 617,
   "outputs": [],
   "source": [
    "baseline = data_loader.load_csv_to_pandas(f'./result/baseline/{baseline_csv_name}')\n",
    "results  = data_loader.load_csv_to_pandas(f'./result/{analysis_folder_name}/result.csv')"
   ],
   "metadata": {
    "collapsed": false,
    "pycharm": {
     "name": "#%%\n"
    }
   }
  },
  {
   "cell_type": "code",
   "execution_count": 618,
   "outputs": [
    {
     "data": {
      "text/plain": "                      resampler  recall_mean  recall_std  auc_mean  auc_std  \\\n0                        MWMOTE      0.56341     0.11509   0.66886  0.03005   \n1                        adasyn      0.51951     0.07116   0.66687  0.03916   \n2                   basic_smote      0.52195     0.07535   0.66854  0.03732   \n3                bordered_smote      0.52927     0.05460   0.66601  0.02515   \n4   instance_hardness_threshold      0.83293     0.03638   0.68045  0.02060   \n5                     near_miss      0.69390     0.03325   0.64053  0.03062   \n6                 no_resampling      0.44878     0.08884   0.64274  0.02888   \n7           one_sided_selection      0.50244     0.08581   0.64847  0.03201   \n8          random_over_sampling      0.57683     0.08508   0.66410  0.02919   \n9         random_under_sampling      0.70000     0.02828   0.69587  0.02121   \n10                  tomek_links      0.49878     0.09331   0.64985  0.03596   \n\n    gmean_mean  gmean_std  precision_mean  precision_std  fscore_mean  \\\n0      0.65409    0.03881         0.49265        0.05106      0.51784   \n1      0.64901    0.04711         0.51246        0.05192      0.51507   \n2      0.65046    0.04644         0.51538        0.04631      0.51697   \n3      0.65061    0.03116         0.50437        0.03648      0.51484   \n4      0.66273    0.02041         0.39923        0.01632      0.53955   \n5      0.63728    0.03279         0.38962        0.03161      0.49819   \n6      0.60858    0.04520         0.51558        0.05003      0.47353   \n7      0.62855    0.04302         0.48146        0.03834      0.48814   \n8      0.65499    0.03683         0.47098        0.04625      0.51397   \n9      0.69562    0.02120         0.46158        0.02608      0.55599   \n10     0.62827    0.04816         0.48772        0.04268      0.48911   \n\n    fscore_std  \n0      0.04278  \n1      0.05686  \n2      0.05464  \n3      0.03589  \n4      0.01967  \n5      0.02844  \n6      0.04729  \n7      0.04750  \n8      0.03983  \n9      0.02441  \n10     0.05345  ",
      "text/html": "<div>\n<style scoped>\n    .dataframe tbody tr th:only-of-type {\n        vertical-align: middle;\n    }\n\n    .dataframe tbody tr th {\n        vertical-align: top;\n    }\n\n    .dataframe thead th {\n        text-align: right;\n    }\n</style>\n<table border=\"1\" class=\"dataframe\">\n  <thead>\n    <tr style=\"text-align: right;\">\n      <th></th>\n      <th>resampler</th>\n      <th>recall_mean</th>\n      <th>recall_std</th>\n      <th>auc_mean</th>\n      <th>auc_std</th>\n      <th>gmean_mean</th>\n      <th>gmean_std</th>\n      <th>precision_mean</th>\n      <th>precision_std</th>\n      <th>fscore_mean</th>\n      <th>fscore_std</th>\n    </tr>\n  </thead>\n  <tbody>\n    <tr>\n      <th>0</th>\n      <td>MWMOTE</td>\n      <td>0.56341</td>\n      <td>0.11509</td>\n      <td>0.66886</td>\n      <td>0.03005</td>\n      <td>0.65409</td>\n      <td>0.03881</td>\n      <td>0.49265</td>\n      <td>0.05106</td>\n      <td>0.51784</td>\n      <td>0.04278</td>\n    </tr>\n    <tr>\n      <th>1</th>\n      <td>adasyn</td>\n      <td>0.51951</td>\n      <td>0.07116</td>\n      <td>0.66687</td>\n      <td>0.03916</td>\n      <td>0.64901</td>\n      <td>0.04711</td>\n      <td>0.51246</td>\n      <td>0.05192</td>\n      <td>0.51507</td>\n      <td>0.05686</td>\n    </tr>\n    <tr>\n      <th>2</th>\n      <td>basic_smote</td>\n      <td>0.52195</td>\n      <td>0.07535</td>\n      <td>0.66854</td>\n      <td>0.03732</td>\n      <td>0.65046</td>\n      <td>0.04644</td>\n      <td>0.51538</td>\n      <td>0.04631</td>\n      <td>0.51697</td>\n      <td>0.05464</td>\n    </tr>\n    <tr>\n      <th>3</th>\n      <td>bordered_smote</td>\n      <td>0.52927</td>\n      <td>0.05460</td>\n      <td>0.66601</td>\n      <td>0.02515</td>\n      <td>0.65061</td>\n      <td>0.03116</td>\n      <td>0.50437</td>\n      <td>0.03648</td>\n      <td>0.51484</td>\n      <td>0.03589</td>\n    </tr>\n    <tr>\n      <th>4</th>\n      <td>instance_hardness_threshold</td>\n      <td>0.83293</td>\n      <td>0.03638</td>\n      <td>0.68045</td>\n      <td>0.02060</td>\n      <td>0.66273</td>\n      <td>0.02041</td>\n      <td>0.39923</td>\n      <td>0.01632</td>\n      <td>0.53955</td>\n      <td>0.01967</td>\n    </tr>\n    <tr>\n      <th>5</th>\n      <td>near_miss</td>\n      <td>0.69390</td>\n      <td>0.03325</td>\n      <td>0.64053</td>\n      <td>0.03062</td>\n      <td>0.63728</td>\n      <td>0.03279</td>\n      <td>0.38962</td>\n      <td>0.03161</td>\n      <td>0.49819</td>\n      <td>0.02844</td>\n    </tr>\n    <tr>\n      <th>6</th>\n      <td>no_resampling</td>\n      <td>0.44878</td>\n      <td>0.08884</td>\n      <td>0.64274</td>\n      <td>0.02888</td>\n      <td>0.60858</td>\n      <td>0.04520</td>\n      <td>0.51558</td>\n      <td>0.05003</td>\n      <td>0.47353</td>\n      <td>0.04729</td>\n    </tr>\n    <tr>\n      <th>7</th>\n      <td>one_sided_selection</td>\n      <td>0.50244</td>\n      <td>0.08581</td>\n      <td>0.64847</td>\n      <td>0.03201</td>\n      <td>0.62855</td>\n      <td>0.04302</td>\n      <td>0.48146</td>\n      <td>0.03834</td>\n      <td>0.48814</td>\n      <td>0.04750</td>\n    </tr>\n    <tr>\n      <th>8</th>\n      <td>random_over_sampling</td>\n      <td>0.57683</td>\n      <td>0.08508</td>\n      <td>0.66410</td>\n      <td>0.02919</td>\n      <td>0.65499</td>\n      <td>0.03683</td>\n      <td>0.47098</td>\n      <td>0.04625</td>\n      <td>0.51397</td>\n      <td>0.03983</td>\n    </tr>\n    <tr>\n      <th>9</th>\n      <td>random_under_sampling</td>\n      <td>0.70000</td>\n      <td>0.02828</td>\n      <td>0.69587</td>\n      <td>0.02121</td>\n      <td>0.69562</td>\n      <td>0.02120</td>\n      <td>0.46158</td>\n      <td>0.02608</td>\n      <td>0.55599</td>\n      <td>0.02441</td>\n    </tr>\n    <tr>\n      <th>10</th>\n      <td>tomek_links</td>\n      <td>0.49878</td>\n      <td>0.09331</td>\n      <td>0.64985</td>\n      <td>0.03596</td>\n      <td>0.62827</td>\n      <td>0.04816</td>\n      <td>0.48772</td>\n      <td>0.04268</td>\n      <td>0.48911</td>\n      <td>0.05345</td>\n    </tr>\n  </tbody>\n</table>\n</div>"
     },
     "execution_count": 618,
     "metadata": {},
     "output_type": "execute_result"
    }
   ],
   "source": [
    "baseline"
   ],
   "metadata": {
    "collapsed": false,
    "pycharm": {
     "name": "#%%\n"
    }
   }
  },
  {
   "cell_type": "code",
   "execution_count": 619,
   "outputs": [
    {
     "name": "stdout",
     "output_type": "stream",
     "text": [
      "(2250, 17)\n"
     ]
    }
   ],
   "source": [
    "print(results.shape)\n",
    "# drop columns\n",
    "drop_columns = ['resample_time', 'train_time', 'support', 'shuffle', 'original_maj_min', 'train_args']\n",
    "results = results.drop(drop_columns, axis=1)\n",
    "# results.head(5)"
   ],
   "metadata": {
    "collapsed": false,
    "pycharm": {
     "name": "#%%\n"
    }
   }
  },
  {
   "cell_type": "code",
   "execution_count": 620,
   "outputs": [],
   "source": [
    "#! results先根据id排序\n",
    "sorted_results = results.sort_values(by='id')\n",
    "# sorted_results.head(15)"
   ],
   "metadata": {
    "collapsed": false,
    "pycharm": {
     "name": "#%%\n"
    }
   }
  },
  {
   "cell_type": "code",
   "execution_count": 621,
   "outputs": [],
   "source": [
    "# group by args\n",
    "grouped_results = sorted_results.groupby(['resample_args']) \\\n",
    "                                .agg(recall_mean=('recall', 'mean'),\n",
    "                                     recall_std=('recall', 'std'),\n",
    "                                     auc_mean=('auc', 'mean'),\n",
    "                                     auc_std=('auc', 'std'),\n",
    "                                     gmean_mean=('gmean', 'mean'),\n",
    "                                     gmean_std=('gmean', 'std'),\n",
    "                                     precision_mean=('precision', 'mean'),\n",
    "                                     precision_std=('precision', 'std'),\n",
    "                                     fscore_mean=('fscore', 'mean'),\n",
    "                                     fscore_std=('fscore', 'std'))\n",
    "# grouped_results.head(5)"
   ],
   "metadata": {
    "collapsed": false,
    "pycharm": {
     "name": "#%%\n"
    }
   }
  },
  {
   "cell_type": "code",
   "execution_count": 622,
   "outputs": [
    {
     "data": {
      "text/plain": "                                            recall_mean  recall_std  auc_mean  \\\nresample_args                                                                   \n{'a_ros': 0.5, 'a_rus': 1.5, 'i_ros': 0.4}      0.66585     0.06560   0.69095   \n{'a_ros': 2, 'a_rus': 1, 'i_ros': 0.3}          0.64756     0.04281   0.68640   \n{'a_ros': 2.5, 'a_rus': 1.5, 'i_ros': 0.2}      0.65488     0.05046   0.68455   \n\n                                            auc_std  gmean_mean  gmean_std  \\\nresample_args                                                                \n{'a_ros': 0.5, 'a_rus': 1.5, 'i_ros': 0.4}  0.02453     0.68901    0.02552   \n{'a_ros': 2, 'a_rus': 1, 'i_ros': 0.3}      0.01225     0.68438    0.01324   \n{'a_ros': 2.5, 'a_rus': 1.5, 'i_ros': 0.2}  0.01567     0.68247    0.01611   \n\n                                            precision_mean  precision_std  \\\nresample_args                                                               \n{'a_ros': 0.5, 'a_rus': 1.5, 'i_ros': 0.4}         0.46967        0.02576   \n{'a_ros': 2, 'a_rus': 1, 'i_ros': 0.3}             0.47130        0.02050   \n{'a_ros': 2.5, 'a_rus': 1.5, 'i_ros': 0.2}         0.46534        0.02694   \n\n                                            fscore_mean  fscore_std  \\\nresample_args                                                         \n{'a_ros': 0.5, 'a_rus': 1.5, 'i_ros': 0.4}      0.54941     0.02932   \n{'a_ros': 2, 'a_rus': 1, 'i_ros': 0.3}          0.54446     0.01487   \n{'a_ros': 2.5, 'a_rus': 1.5, 'i_ros': 0.2}      0.54245     0.01835   \n\n                                            recall_mean_norm  recall_std_norm  \\\nresample_args                                                                   \n{'a_ros': 0.5, 'a_rus': 1.5, 'i_ros': 0.4}           1.00000          0.61220   \n{'a_ros': 2, 'a_rus': 1, 'i_ros': 0.3}               0.81481          0.91072   \n{'a_ros': 2.5, 'a_rus': 1.5, 'i_ros': 0.2}           0.88889          0.81046   \n\n                                            auc_mean_norm  auc_std_norm  \\\nresample_args                                                             \n{'a_ros': 0.5, 'a_rus': 1.5, 'i_ros': 0.4}        1.00000       0.61210   \n{'a_ros': 2, 'a_rus': 1, 'i_ros': 0.3}            0.85313       0.97451   \n{'a_ros': 2.5, 'a_rus': 1.5, 'i_ros': 0.2}        0.79366       0.87352   \n\n                                            gmean_mean_norm  gmean_std_norm  \\\nresample_args                                                                 \n{'a_ros': 0.5, 'a_rus': 1.5, 'i_ros': 0.4}          1.00000         0.67553   \n{'a_ros': 2, 'a_rus': 1, 'i_ros': 0.3}              0.88524         0.98639   \n{'a_ros': 2.5, 'a_rus': 1.5, 'i_ros': 0.2}          0.83815         0.91380   \n\n                                             score  \nresample_args                                       \n{'a_ros': 0.5, 'a_rus': 1.5, 'i_ros': 0.4} 0.88364  \n{'a_ros': 2, 'a_rus': 1, 'i_ros': 0.3}     0.87576  \n{'a_ros': 2.5, 'a_rus': 1.5, 'i_ros': 0.2} 0.83194  ",
      "text/html": "<div>\n<style scoped>\n    .dataframe tbody tr th:only-of-type {\n        vertical-align: middle;\n    }\n\n    .dataframe tbody tr th {\n        vertical-align: top;\n    }\n\n    .dataframe thead th {\n        text-align: right;\n    }\n</style>\n<table border=\"1\" class=\"dataframe\">\n  <thead>\n    <tr style=\"text-align: right;\">\n      <th></th>\n      <th>recall_mean</th>\n      <th>recall_std</th>\n      <th>auc_mean</th>\n      <th>auc_std</th>\n      <th>gmean_mean</th>\n      <th>gmean_std</th>\n      <th>precision_mean</th>\n      <th>precision_std</th>\n      <th>fscore_mean</th>\n      <th>fscore_std</th>\n      <th>recall_mean_norm</th>\n      <th>recall_std_norm</th>\n      <th>auc_mean_norm</th>\n      <th>auc_std_norm</th>\n      <th>gmean_mean_norm</th>\n      <th>gmean_std_norm</th>\n      <th>score</th>\n    </tr>\n    <tr>\n      <th>resample_args</th>\n      <th></th>\n      <th></th>\n      <th></th>\n      <th></th>\n      <th></th>\n      <th></th>\n      <th></th>\n      <th></th>\n      <th></th>\n      <th></th>\n      <th></th>\n      <th></th>\n      <th></th>\n      <th></th>\n      <th></th>\n      <th></th>\n      <th></th>\n    </tr>\n  </thead>\n  <tbody>\n    <tr>\n      <th>{'a_ros': 0.5, 'a_rus': 1.5, 'i_ros': 0.4}</th>\n      <td>0.66585</td>\n      <td>0.06560</td>\n      <td>0.69095</td>\n      <td>0.02453</td>\n      <td>0.68901</td>\n      <td>0.02552</td>\n      <td>0.46967</td>\n      <td>0.02576</td>\n      <td>0.54941</td>\n      <td>0.02932</td>\n      <td>1.00000</td>\n      <td>0.61220</td>\n      <td>1.00000</td>\n      <td>0.61210</td>\n      <td>1.00000</td>\n      <td>0.67553</td>\n      <td>0.88364</td>\n    </tr>\n    <tr>\n      <th>{'a_ros': 2, 'a_rus': 1, 'i_ros': 0.3}</th>\n      <td>0.64756</td>\n      <td>0.04281</td>\n      <td>0.68640</td>\n      <td>0.01225</td>\n      <td>0.68438</td>\n      <td>0.01324</td>\n      <td>0.47130</td>\n      <td>0.02050</td>\n      <td>0.54446</td>\n      <td>0.01487</td>\n      <td>0.81481</td>\n      <td>0.91072</td>\n      <td>0.85313</td>\n      <td>0.97451</td>\n      <td>0.88524</td>\n      <td>0.98639</td>\n      <td>0.87576</td>\n    </tr>\n    <tr>\n      <th>{'a_ros': 2.5, 'a_rus': 1.5, 'i_ros': 0.2}</th>\n      <td>0.65488</td>\n      <td>0.05046</td>\n      <td>0.68455</td>\n      <td>0.01567</td>\n      <td>0.68247</td>\n      <td>0.01611</td>\n      <td>0.46534</td>\n      <td>0.02694</td>\n      <td>0.54245</td>\n      <td>0.01835</td>\n      <td>0.88889</td>\n      <td>0.81046</td>\n      <td>0.79366</td>\n      <td>0.87352</td>\n      <td>0.83815</td>\n      <td>0.91380</td>\n      <td>0.83194</td>\n    </tr>\n  </tbody>\n</table>\n</div>"
     },
     "execution_count": 622,
     "metadata": {},
     "output_type": "execute_result"
    }
   ],
   "source": [
    "#! add rank info\n",
    "# grouped_results['recall_mean_rank']  =  grouped_results['recall_mean'].rank(method='dense', ascending=False)\n",
    "# grouped_results['recall_std_rank']   =  grouped_results['recall_std'].rank(method='dense', ascending=False)\n",
    "# grouped_results['auc_mean_rank']     =  grouped_results['auc_mean'].rank(method='dense', ascending=False)\n",
    "# grouped_results['auc_std_rank']      =  grouped_results['auc_std'].rank(method='dense', ascending=False)\n",
    "# grouped_results['gmean_mean_rank']   =  grouped_results['gmean_mean'].rank(method='dense', ascending=False)\n",
    "# grouped_results['gmean_std_rank']    =  grouped_results['gmean_std'].rank(method='dense', ascending=False)\n",
    "grouped_results['recall_mean_norm']  =  (grouped_results['recall_mean'] - grouped_results['recall_mean'].min()) / (grouped_results['recall_mean'].max() - grouped_results['recall_mean'].min())\n",
    "grouped_results['recall_std_norm']   =  (grouped_results['recall_std']  - grouped_results['recall_std'].max())  / -(grouped_results['recall_std'].max()  - grouped_results['recall_std'].min())\n",
    "grouped_results['auc_mean_norm']     =  (grouped_results['auc_mean']    - grouped_results['auc_mean'].min())    / (grouped_results['auc_mean'].max()    - grouped_results['auc_mean'].min())\n",
    "grouped_results['auc_std_norm']      =  (grouped_results['auc_std']     - grouped_results['auc_std'].max())     / -(grouped_results['auc_std'].max()     - grouped_results['auc_std'].min())\n",
    "grouped_results['gmean_mean_norm']   =  (grouped_results['gmean_mean']  - grouped_results['gmean_mean'].min())  / (grouped_results['gmean_mean'].max()  - grouped_results['gmean_mean'].min())\n",
    "grouped_results['gmean_std_norm']    =  (grouped_results['gmean_std']   - grouped_results['gmean_std'].max())   / -(grouped_results['gmean_std'].max()   - grouped_results['gmean_std'].min())\n",
    "grouped_results['score']             =  w_recall * ( w_mean * grouped_results['recall_mean_norm'] + w_std * grouped_results['recall_std_norm']) + \\\n",
    "                                        w_auc    * ( w_mean * grouped_results['auc_mean_norm']    + w_std * grouped_results['auc_std_norm'   ]) + \\\n",
    "                                        w_gmean  * ( w_mean * grouped_results['gmean_mean_norm']  + w_std * grouped_results['gmean_std_norm' ])\n",
    "grouped_results = grouped_results.sort_values(by='score', ascending=False)\n",
    "grouped_results.head(best_result_pick_num)"
   ],
   "metadata": {
    "collapsed": false,
    "pycharm": {
     "name": "#%%\n"
    }
   }
  },
  {
   "cell_type": "code",
   "execution_count": 623,
   "outputs": [
    {
     "data": {
      "text/plain": "                                            recall_mean  recall_std  auc_mean  \\\nresample_args                                                                   \n{'a_ros': 0.5, 'a_rus': 1.5, 'i_ros': 0.4}      0.66585     0.06560   0.69095   \n{'a_ros': 2, 'a_rus': 1, 'i_ros': 0.3}          0.64756     0.04281   0.68640   \n{'a_ros': 2.5, 'a_rus': 1.5, 'i_ros': 0.2}      0.65488     0.05046   0.68455   \n\n                                            auc_std  gmean_mean  gmean_std  \\\nresample_args                                                                \n{'a_ros': 0.5, 'a_rus': 1.5, 'i_ros': 0.4}  0.02453     0.68901    0.02552   \n{'a_ros': 2, 'a_rus': 1, 'i_ros': 0.3}      0.01225     0.68438    0.01324   \n{'a_ros': 2.5, 'a_rus': 1.5, 'i_ros': 0.2}  0.01567     0.68247    0.01611   \n\n                                            precision_mean  precision_std  \\\nresample_args                                                               \n{'a_ros': 0.5, 'a_rus': 1.5, 'i_ros': 0.4}         0.46967        0.02576   \n{'a_ros': 2, 'a_rus': 1, 'i_ros': 0.3}             0.47130        0.02050   \n{'a_ros': 2.5, 'a_rus': 1.5, 'i_ros': 0.2}         0.46534        0.02694   \n\n                                            fscore_mean  fscore_std  \\\nresample_args                                                         \n{'a_ros': 0.5, 'a_rus': 1.5, 'i_ros': 0.4}      0.54941     0.02932   \n{'a_ros': 2, 'a_rus': 1, 'i_ros': 0.3}          0.54446     0.01487   \n{'a_ros': 2.5, 'a_rus': 1.5, 'i_ros': 0.2}      0.54245     0.01835   \n\n                                                                             resampler  \nresample_args                                                                           \n{'a_ros': 0.5, 'a_rus': 1.5, 'i_ros': 0.4}  {'a_ros': 0.5, 'a_rus': 1.5, 'i_ros': 0.4}  \n{'a_ros': 2, 'a_rus': 1, 'i_ros': 0.3}          {'a_ros': 2, 'a_rus': 1, 'i_ros': 0.3}  \n{'a_ros': 2.5, 'a_rus': 1.5, 'i_ros': 0.2}  {'a_ros': 2.5, 'a_rus': 1.5, 'i_ros': 0.2}  ",
      "text/html": "<div>\n<style scoped>\n    .dataframe tbody tr th:only-of-type {\n        vertical-align: middle;\n    }\n\n    .dataframe tbody tr th {\n        vertical-align: top;\n    }\n\n    .dataframe thead th {\n        text-align: right;\n    }\n</style>\n<table border=\"1\" class=\"dataframe\">\n  <thead>\n    <tr style=\"text-align: right;\">\n      <th></th>\n      <th>recall_mean</th>\n      <th>recall_std</th>\n      <th>auc_mean</th>\n      <th>auc_std</th>\n      <th>gmean_mean</th>\n      <th>gmean_std</th>\n      <th>precision_mean</th>\n      <th>precision_std</th>\n      <th>fscore_mean</th>\n      <th>fscore_std</th>\n      <th>resampler</th>\n    </tr>\n    <tr>\n      <th>resample_args</th>\n      <th></th>\n      <th></th>\n      <th></th>\n      <th></th>\n      <th></th>\n      <th></th>\n      <th></th>\n      <th></th>\n      <th></th>\n      <th></th>\n      <th></th>\n    </tr>\n  </thead>\n  <tbody>\n    <tr>\n      <th>{'a_ros': 0.5, 'a_rus': 1.5, 'i_ros': 0.4}</th>\n      <td>0.66585</td>\n      <td>0.06560</td>\n      <td>0.69095</td>\n      <td>0.02453</td>\n      <td>0.68901</td>\n      <td>0.02552</td>\n      <td>0.46967</td>\n      <td>0.02576</td>\n      <td>0.54941</td>\n      <td>0.02932</td>\n      <td>{'a_ros': 0.5, 'a_rus': 1.5, 'i_ros': 0.4}</td>\n    </tr>\n    <tr>\n      <th>{'a_ros': 2, 'a_rus': 1, 'i_ros': 0.3}</th>\n      <td>0.64756</td>\n      <td>0.04281</td>\n      <td>0.68640</td>\n      <td>0.01225</td>\n      <td>0.68438</td>\n      <td>0.01324</td>\n      <td>0.47130</td>\n      <td>0.02050</td>\n      <td>0.54446</td>\n      <td>0.01487</td>\n      <td>{'a_ros': 2, 'a_rus': 1, 'i_ros': 0.3}</td>\n    </tr>\n    <tr>\n      <th>{'a_ros': 2.5, 'a_rus': 1.5, 'i_ros': 0.2}</th>\n      <td>0.65488</td>\n      <td>0.05046</td>\n      <td>0.68455</td>\n      <td>0.01567</td>\n      <td>0.68247</td>\n      <td>0.01611</td>\n      <td>0.46534</td>\n      <td>0.02694</td>\n      <td>0.54245</td>\n      <td>0.01835</td>\n      <td>{'a_ros': 2.5, 'a_rus': 1.5, 'i_ros': 0.2}</td>\n    </tr>\n  </tbody>\n</table>\n</div>"
     },
     "execution_count": 623,
     "metadata": {},
     "output_type": "execute_result"
    }
   ],
   "source": [
    "# slice_col  = ['recall_mean', 'recall_std', 'auc_mean', 'auc_std', 'gmean_mean', 'gmean_std']\n",
    "best_result = grouped_results.iloc[:best_result_pick_num, 0:10]\n",
    "best_result['resampler'] = grouped_results.index[:best_result_pick_num]\n",
    "best_result"
   ],
   "metadata": {
    "collapsed": false,
    "pycharm": {
     "name": "#%%\n"
    }
   }
  },
  {
   "cell_type": "code",
   "execution_count": 624,
   "outputs": [],
   "source": [
    "baseline = pd.concat([baseline, best_result], axis=0)\n",
    "# baseline"
   ],
   "metadata": {
    "collapsed": false,
    "pycharm": {
     "name": "#%%\n"
    }
   }
  },
  {
   "cell_type": "code",
   "execution_count": 625,
   "outputs": [
    {
     "data": {
      "text/plain": "                                                                             resampler  \\\n9                                                                random_under_sampling   \n{'a_ros': 2, 'a_rus': 1, 'i_ros': 0.3}          {'a_ros': 2, 'a_rus': 1, 'i_ros': 0.3}   \n4                                                          instance_hardness_threshold   \n{'a_ros': 2.5, 'a_rus': 1.5, 'i_ros': 0.2}  {'a_ros': 2.5, 'a_rus': 1.5, 'i_ros': 0.2}   \n{'a_ros': 0.5, 'a_rus': 1.5, 'i_ros': 0.4}  {'a_ros': 0.5, 'a_rus': 1.5, 'i_ros': 0.4}   \n\n                                            recall_mean  recall_std  auc_mean  \\\n9                                               0.70000     0.02828   0.69587   \n{'a_ros': 2, 'a_rus': 1, 'i_ros': 0.3}          0.64756     0.04281   0.68640   \n4                                               0.83293     0.03638   0.68045   \n{'a_ros': 2.5, 'a_rus': 1.5, 'i_ros': 0.2}      0.65488     0.05046   0.68455   \n{'a_ros': 0.5, 'a_rus': 1.5, 'i_ros': 0.4}      0.66585     0.06560   0.69095   \n\n                                            auc_std  gmean_mean  gmean_std  \\\n9                                           0.02121     0.69562    0.02120   \n{'a_ros': 2, 'a_rus': 1, 'i_ros': 0.3}      0.01225     0.68438    0.01324   \n4                                           0.02060     0.66273    0.02041   \n{'a_ros': 2.5, 'a_rus': 1.5, 'i_ros': 0.2}  0.01567     0.68247    0.01611   \n{'a_ros': 0.5, 'a_rus': 1.5, 'i_ros': 0.4}  0.02453     0.68901    0.02552   \n\n                                            precision_mean  precision_std  \\\n9                                                  0.46158        0.02608   \n{'a_ros': 2, 'a_rus': 1, 'i_ros': 0.3}             0.47130        0.02050   \n4                                                  0.39923        0.01632   \n{'a_ros': 2.5, 'a_rus': 1.5, 'i_ros': 0.2}         0.46534        0.02694   \n{'a_ros': 0.5, 'a_rus': 1.5, 'i_ros': 0.4}         0.46967        0.02576   \n\n                                            fscore_mean  fscore_std  \\\n9                                               0.55599     0.02441   \n{'a_ros': 2, 'a_rus': 1, 'i_ros': 0.3}          0.54446     0.01487   \n4                                               0.53955     0.01967   \n{'a_ros': 2.5, 'a_rus': 1.5, 'i_ros': 0.2}      0.54245     0.01835   \n{'a_ros': 0.5, 'a_rus': 1.5, 'i_ros': 0.4}      0.54941     0.02932   \n\n                                            recall_mean_norm  recall_std_norm  \\\n9                                                    0.65397          1.00000   \n{'a_ros': 2, 'a_rus': 1, 'i_ros': 0.3}               0.51746          0.83265   \n4                                                    1.00000          0.90668   \n{'a_ros': 2.5, 'a_rus': 1.5, 'i_ros': 0.2}           0.53651          0.74448   \n{'a_ros': 0.5, 'a_rus': 1.5, 'i_ros': 0.4}           0.56508          0.57014   \n\n                                            auc_mean_norm  auc_std_norm  \\\n9                                                 1.00000       0.66704   \n{'a_ros': 2, 'a_rus': 1, 'i_ros': 0.3}            0.82877       1.00000   \n4                                                 0.72142       0.68977   \n{'a_ros': 2.5, 'a_rus': 1.5, 'i_ros': 0.2}        0.79541       0.87290   \n{'a_ros': 0.5, 'a_rus': 1.5, 'i_ros': 0.4}        0.91115       0.54389   \n\n                                            gmean_mean_norm  gmean_std_norm  \\\n9                                                   1.00000         0.77209   \n{'a_ros': 2, 'a_rus': 1, 'i_ros': 0.3}              0.87082         1.00000   \n4                                                   0.62213         0.79480   \n{'a_ros': 2.5, 'a_rus': 1.5, 'i_ros': 0.2}          0.84898         0.91793   \n{'a_ros': 0.5, 'a_rus': 1.5, 'i_ros': 0.4}          0.92405         0.64856   \n\n                                             score  \n9                                          0.85741  \n{'a_ros': 2, 'a_rus': 1, 'i_ros': 0.3}     0.79970  \n4                                          0.78995  \n{'a_ros': 2.5, 'a_rus': 1.5, 'i_ros': 0.2} 0.75273  \n{'a_ros': 0.5, 'a_rus': 1.5, 'i_ros': 0.4} 0.73066  ",
      "text/html": "<div>\n<style scoped>\n    .dataframe tbody tr th:only-of-type {\n        vertical-align: middle;\n    }\n\n    .dataframe tbody tr th {\n        vertical-align: top;\n    }\n\n    .dataframe thead th {\n        text-align: right;\n    }\n</style>\n<table border=\"1\" class=\"dataframe\">\n  <thead>\n    <tr style=\"text-align: right;\">\n      <th></th>\n      <th>resampler</th>\n      <th>recall_mean</th>\n      <th>recall_std</th>\n      <th>auc_mean</th>\n      <th>auc_std</th>\n      <th>gmean_mean</th>\n      <th>gmean_std</th>\n      <th>precision_mean</th>\n      <th>precision_std</th>\n      <th>fscore_mean</th>\n      <th>fscore_std</th>\n      <th>recall_mean_norm</th>\n      <th>recall_std_norm</th>\n      <th>auc_mean_norm</th>\n      <th>auc_std_norm</th>\n      <th>gmean_mean_norm</th>\n      <th>gmean_std_norm</th>\n      <th>score</th>\n    </tr>\n  </thead>\n  <tbody>\n    <tr>\n      <th>9</th>\n      <td>random_under_sampling</td>\n      <td>0.70000</td>\n      <td>0.02828</td>\n      <td>0.69587</td>\n      <td>0.02121</td>\n      <td>0.69562</td>\n      <td>0.02120</td>\n      <td>0.46158</td>\n      <td>0.02608</td>\n      <td>0.55599</td>\n      <td>0.02441</td>\n      <td>0.65397</td>\n      <td>1.00000</td>\n      <td>1.00000</td>\n      <td>0.66704</td>\n      <td>1.00000</td>\n      <td>0.77209</td>\n      <td>0.85741</td>\n    </tr>\n    <tr>\n      <th>{'a_ros': 2, 'a_rus': 1, 'i_ros': 0.3}</th>\n      <td>{'a_ros': 2, 'a_rus': 1, 'i_ros': 0.3}</td>\n      <td>0.64756</td>\n      <td>0.04281</td>\n      <td>0.68640</td>\n      <td>0.01225</td>\n      <td>0.68438</td>\n      <td>0.01324</td>\n      <td>0.47130</td>\n      <td>0.02050</td>\n      <td>0.54446</td>\n      <td>0.01487</td>\n      <td>0.51746</td>\n      <td>0.83265</td>\n      <td>0.82877</td>\n      <td>1.00000</td>\n      <td>0.87082</td>\n      <td>1.00000</td>\n      <td>0.79970</td>\n    </tr>\n    <tr>\n      <th>4</th>\n      <td>instance_hardness_threshold</td>\n      <td>0.83293</td>\n      <td>0.03638</td>\n      <td>0.68045</td>\n      <td>0.02060</td>\n      <td>0.66273</td>\n      <td>0.02041</td>\n      <td>0.39923</td>\n      <td>0.01632</td>\n      <td>0.53955</td>\n      <td>0.01967</td>\n      <td>1.00000</td>\n      <td>0.90668</td>\n      <td>0.72142</td>\n      <td>0.68977</td>\n      <td>0.62213</td>\n      <td>0.79480</td>\n      <td>0.78995</td>\n    </tr>\n    <tr>\n      <th>{'a_ros': 2.5, 'a_rus': 1.5, 'i_ros': 0.2}</th>\n      <td>{'a_ros': 2.5, 'a_rus': 1.5, 'i_ros': 0.2}</td>\n      <td>0.65488</td>\n      <td>0.05046</td>\n      <td>0.68455</td>\n      <td>0.01567</td>\n      <td>0.68247</td>\n      <td>0.01611</td>\n      <td>0.46534</td>\n      <td>0.02694</td>\n      <td>0.54245</td>\n      <td>0.01835</td>\n      <td>0.53651</td>\n      <td>0.74448</td>\n      <td>0.79541</td>\n      <td>0.87290</td>\n      <td>0.84898</td>\n      <td>0.91793</td>\n      <td>0.75273</td>\n    </tr>\n    <tr>\n      <th>{'a_ros': 0.5, 'a_rus': 1.5, 'i_ros': 0.4}</th>\n      <td>{'a_ros': 0.5, 'a_rus': 1.5, 'i_ros': 0.4}</td>\n      <td>0.66585</td>\n      <td>0.06560</td>\n      <td>0.69095</td>\n      <td>0.02453</td>\n      <td>0.68901</td>\n      <td>0.02552</td>\n      <td>0.46967</td>\n      <td>0.02576</td>\n      <td>0.54941</td>\n      <td>0.02932</td>\n      <td>0.56508</td>\n      <td>0.57014</td>\n      <td>0.91115</td>\n      <td>0.54389</td>\n      <td>0.92405</td>\n      <td>0.64856</td>\n      <td>0.73066</td>\n    </tr>\n  </tbody>\n</table>\n</div>"
     },
     "execution_count": 625,
     "metadata": {},
     "output_type": "execute_result"
    }
   ],
   "source": [
    "baseline['recall_mean_norm']  =  (baseline['recall_mean'] - baseline['recall_mean'].min()) / (baseline['recall_mean'].max() - baseline['recall_mean'].min())\n",
    "baseline['recall_std_norm']   =  (baseline['recall_std']  - baseline['recall_std'].max())  / -(baseline['recall_std'].max()  - baseline['recall_std'].min())\n",
    "baseline['auc_mean_norm']     =  (baseline['auc_mean']    - baseline['auc_mean'].min())    / (baseline['auc_mean'].max()    - baseline['auc_mean'].min())\n",
    "baseline['auc_std_norm']      =  (baseline['auc_std']     - baseline['auc_std'].max())     / -(baseline['auc_std'].max()     - baseline['auc_std'].min())\n",
    "baseline['gmean_mean_norm']   =  (baseline['gmean_mean']  - baseline['gmean_mean'].min())  / (baseline['gmean_mean'].max()  - baseline['gmean_mean'].min())\n",
    "baseline['gmean_std_norm']    =  (baseline['gmean_std']   - baseline['gmean_std'].max())   / -(baseline['gmean_std'].max()   - baseline['gmean_std'].min())\n",
    "baseline['score']             =  w_recall * ( w_mean * baseline['recall_mean_norm']  + w_std * baseline['recall_std_norm']) + \\\n",
    "                                 w_auc    * ( w_mean * baseline['auc_mean_norm']     + w_std * baseline['auc_std_norm'   ]) + \\\n",
    "                                 w_gmean  * ( w_mean * baseline['gmean_mean_norm']   + w_std * baseline['gmean_std_norm' ])\n",
    "baseline = baseline.sort_values(by='score', ascending=False)\n",
    "baseline.head()"
   ],
   "metadata": {
    "collapsed": false,
    "pycharm": {
     "name": "#%%\n"
    }
   }
  },
  {
   "cell_type": "code",
   "execution_count": 625,
   "outputs": [],
   "source": [],
   "metadata": {
    "collapsed": false,
    "pycharm": {
     "name": "#%%\n"
    }
   }
  }
 ],
 "metadata": {
  "kernelspec": {
   "display_name": "Python 3",
   "language": "python",
   "name": "python3"
  },
  "language_info": {
   "codemirror_mode": {
    "name": "ipython",
    "version": 2
   },
   "file_extension": ".py",
   "mimetype": "text/x-python",
   "name": "python",
   "nbconvert_exporter": "python",
   "pygments_lexer": "ipython2",
   "version": "2.7.6"
  }
 },
 "nbformat": 4,
 "nbformat_minor": 0
}